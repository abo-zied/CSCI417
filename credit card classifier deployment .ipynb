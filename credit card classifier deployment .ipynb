{
 "cells": [
  {
   "cell_type": "markdown",
   "id": "521b77ba",
   "metadata": {},
   "source": [
    "# Required libraries"
   ]
  },
  {
   "cell_type": "code",
   "execution_count": 1,
   "id": "90c485f9",
   "metadata": {},
   "outputs": [],
   "source": [
    "import joblib\n",
    "from sklearn import set_config\n",
    "set_config(display=\"diagram\")"
   ]
  },
  {
   "cell_type": "markdown",
   "id": "f7bf7ba7",
   "metadata": {},
   "source": [
    "### load the pipline "
   ]
  },
  {
   "cell_type": "code",
   "execution_count": 2,
   "id": "c6c51fd6",
   "metadata": {},
   "outputs": [
    {
     "data": {
      "text/html": [
       "<style>#sk-37b144f3-1a7e-4d85-b054-144b9937cb2f {color: black;background-color: white;}#sk-37b144f3-1a7e-4d85-b054-144b9937cb2f pre{padding: 0;}#sk-37b144f3-1a7e-4d85-b054-144b9937cb2f div.sk-toggleable {background-color: white;}#sk-37b144f3-1a7e-4d85-b054-144b9937cb2f label.sk-toggleable__label {cursor: pointer;display: block;width: 100%;margin-bottom: 0;padding: 0.3em;box-sizing: border-box;text-align: center;}#sk-37b144f3-1a7e-4d85-b054-144b9937cb2f label.sk-toggleable__label-arrow:before {content: \"▸\";float: left;margin-right: 0.25em;color: #696969;}#sk-37b144f3-1a7e-4d85-b054-144b9937cb2f label.sk-toggleable__label-arrow:hover:before {color: black;}#sk-37b144f3-1a7e-4d85-b054-144b9937cb2f div.sk-estimator:hover label.sk-toggleable__label-arrow:before {color: black;}#sk-37b144f3-1a7e-4d85-b054-144b9937cb2f div.sk-toggleable__content {max-height: 0;max-width: 0;overflow: hidden;text-align: left;background-color: #f0f8ff;}#sk-37b144f3-1a7e-4d85-b054-144b9937cb2f div.sk-toggleable__content pre {margin: 0.2em;color: black;border-radius: 0.25em;background-color: #f0f8ff;}#sk-37b144f3-1a7e-4d85-b054-144b9937cb2f input.sk-toggleable__control:checked~div.sk-toggleable__content {max-height: 200px;max-width: 100%;overflow: auto;}#sk-37b144f3-1a7e-4d85-b054-144b9937cb2f input.sk-toggleable__control:checked~label.sk-toggleable__label-arrow:before {content: \"▾\";}#sk-37b144f3-1a7e-4d85-b054-144b9937cb2f div.sk-estimator input.sk-toggleable__control:checked~label.sk-toggleable__label {background-color: #d4ebff;}#sk-37b144f3-1a7e-4d85-b054-144b9937cb2f div.sk-label input.sk-toggleable__control:checked~label.sk-toggleable__label {background-color: #d4ebff;}#sk-37b144f3-1a7e-4d85-b054-144b9937cb2f input.sk-hidden--visually {border: 0;clip: rect(1px 1px 1px 1px);clip: rect(1px, 1px, 1px, 1px);height: 1px;margin: -1px;overflow: hidden;padding: 0;position: absolute;width: 1px;}#sk-37b144f3-1a7e-4d85-b054-144b9937cb2f div.sk-estimator {font-family: monospace;background-color: #f0f8ff;border: 1px dotted black;border-radius: 0.25em;box-sizing: border-box;margin-bottom: 0.5em;}#sk-37b144f3-1a7e-4d85-b054-144b9937cb2f div.sk-estimator:hover {background-color: #d4ebff;}#sk-37b144f3-1a7e-4d85-b054-144b9937cb2f div.sk-parallel-item::after {content: \"\";width: 100%;border-bottom: 1px solid gray;flex-grow: 1;}#sk-37b144f3-1a7e-4d85-b054-144b9937cb2f div.sk-label:hover label.sk-toggleable__label {background-color: #d4ebff;}#sk-37b144f3-1a7e-4d85-b054-144b9937cb2f div.sk-serial::before {content: \"\";position: absolute;border-left: 1px solid gray;box-sizing: border-box;top: 2em;bottom: 0;left: 50%;}#sk-37b144f3-1a7e-4d85-b054-144b9937cb2f div.sk-serial {display: flex;flex-direction: column;align-items: center;background-color: white;padding-right: 0.2em;padding-left: 0.2em;}#sk-37b144f3-1a7e-4d85-b054-144b9937cb2f div.sk-item {z-index: 1;}#sk-37b144f3-1a7e-4d85-b054-144b9937cb2f div.sk-parallel {display: flex;align-items: stretch;justify-content: center;background-color: white;}#sk-37b144f3-1a7e-4d85-b054-144b9937cb2f div.sk-parallel::before {content: \"\";position: absolute;border-left: 1px solid gray;box-sizing: border-box;top: 2em;bottom: 0;left: 50%;}#sk-37b144f3-1a7e-4d85-b054-144b9937cb2f div.sk-parallel-item {display: flex;flex-direction: column;position: relative;background-color: white;}#sk-37b144f3-1a7e-4d85-b054-144b9937cb2f div.sk-parallel-item:first-child::after {align-self: flex-end;width: 50%;}#sk-37b144f3-1a7e-4d85-b054-144b9937cb2f div.sk-parallel-item:last-child::after {align-self: flex-start;width: 50%;}#sk-37b144f3-1a7e-4d85-b054-144b9937cb2f div.sk-parallel-item:only-child::after {width: 0;}#sk-37b144f3-1a7e-4d85-b054-144b9937cb2f div.sk-dashed-wrapped {border: 1px dashed gray;margin: 0 0.4em 0.5em 0.4em;box-sizing: border-box;padding-bottom: 0.4em;background-color: white;position: relative;}#sk-37b144f3-1a7e-4d85-b054-144b9937cb2f div.sk-label label {font-family: monospace;font-weight: bold;background-color: white;display: inline-block;line-height: 1.2em;}#sk-37b144f3-1a7e-4d85-b054-144b9937cb2f div.sk-label-container {position: relative;z-index: 2;text-align: center;}#sk-37b144f3-1a7e-4d85-b054-144b9937cb2f div.sk-container {/* jupyter's `normalize.less` sets `[hidden] { display: none; }` but bootstrap.min.css set `[hidden] { display: none !important; }` so we also need the `!important` here to be able to override the default hidden behavior on the sphinx rendered scikit-learn.org. See: https://github.com/scikit-learn/scikit-learn/issues/21755 */display: inline-block !important;position: relative;}#sk-37b144f3-1a7e-4d85-b054-144b9937cb2f div.sk-text-repr-fallback {display: none;}</style><div id=\"sk-37b144f3-1a7e-4d85-b054-144b9937cb2f\" class=\"sk-top-container\"><div class=\"sk-text-repr-fallback\"><pre>RandomizedSearchCV(cv=3,\n",
       "                   estimator=Pipeline(steps=[(&#x27;selector&#x27;,\n",
       "                                              SelectFromModel(estimator=DecisionTreeClassifier())),\n",
       "                                             (&#x27;scaler&#x27;, RobustScaler()),\n",
       "                                             (&#x27;model&#x27;,\n",
       "                                              DecisionTreeClassifier())]),\n",
       "                   n_iter=20,\n",
       "                   param_distributions=[{&#x27;model__criterion&#x27;: [&#x27;gini&#x27;,\n",
       "                                                              &#x27;entropy&#x27;],\n",
       "                                         &#x27;model__max_depth&#x27;: range(10, 40),\n",
       "                                         &#x27;model__max_features&#x27;: [&#x27;auto&#x27;, &#x27;log2&#x27;,\n",
       "                                                                 &#x27;sqrt&#x27;, None],\n",
       "                                         &#x27;model__max_leaf_nodes&#x27;: range(10, 40),\n",
       "                                         &#x27;model__min_samples_leaf&#x27;: range(1, 10),\n",
       "                                         &#x27;model__min_samples_split&#x27;: [2, 5, 10],\n",
       "                                         &#x27;model__splitter&#x27;: [&#x27;best&#x27;,\n",
       "                                                             &#x27;random&#x27;]}],\n",
       "                   random_state=42, return_train_score=True, verbose=1)</pre><b>Please rerun this cell to show the HTML repr or trust the notebook.</b></div><div class=\"sk-container\" hidden><div class=\"sk-item sk-dashed-wrapped\"><div class=\"sk-label-container\"><div class=\"sk-label sk-toggleable\"><input class=\"sk-toggleable__control sk-hidden--visually\" id=\"c3f8619d-79fd-4463-83cf-e5caf379b080\" type=\"checkbox\" ><label for=\"c3f8619d-79fd-4463-83cf-e5caf379b080\" class=\"sk-toggleable__label sk-toggleable__label-arrow\">RandomizedSearchCV</label><div class=\"sk-toggleable__content\"><pre>RandomizedSearchCV(cv=3,\n",
       "                   estimator=Pipeline(steps=[(&#x27;selector&#x27;,\n",
       "                                              SelectFromModel(estimator=DecisionTreeClassifier())),\n",
       "                                             (&#x27;scaler&#x27;, RobustScaler()),\n",
       "                                             (&#x27;model&#x27;,\n",
       "                                              DecisionTreeClassifier())]),\n",
       "                   n_iter=20,\n",
       "                   param_distributions=[{&#x27;model__criterion&#x27;: [&#x27;gini&#x27;,\n",
       "                                                              &#x27;entropy&#x27;],\n",
       "                                         &#x27;model__max_depth&#x27;: range(10, 40),\n",
       "                                         &#x27;model__max_features&#x27;: [&#x27;auto&#x27;, &#x27;log2&#x27;,\n",
       "                                                                 &#x27;sqrt&#x27;, None],\n",
       "                                         &#x27;model__max_leaf_nodes&#x27;: range(10, 40),\n",
       "                                         &#x27;model__min_samples_leaf&#x27;: range(1, 10),\n",
       "                                         &#x27;model__min_samples_split&#x27;: [2, 5, 10],\n",
       "                                         &#x27;model__splitter&#x27;: [&#x27;best&#x27;,\n",
       "                                                             &#x27;random&#x27;]}],\n",
       "                   random_state=42, return_train_score=True, verbose=1)</pre></div></div></div><div class=\"sk-parallel\"><div class=\"sk-parallel-item\"><div class=\"sk-item\"><div class=\"sk-serial\"><div class=\"sk-item\"><div class=\"sk-serial\"><div class=\"sk-item sk-dashed-wrapped\"><div class=\"sk-label-container\"><div class=\"sk-label sk-toggleable\"><input class=\"sk-toggleable__control sk-hidden--visually\" id=\"a6da6e07-e0a9-41a8-87da-43def28ac8fe\" type=\"checkbox\" ><label for=\"a6da6e07-e0a9-41a8-87da-43def28ac8fe\" class=\"sk-toggleable__label sk-toggleable__label-arrow\">selector: SelectFromModel</label><div class=\"sk-toggleable__content\"><pre>SelectFromModel(estimator=DecisionTreeClassifier())</pre></div></div></div><div class=\"sk-parallel\"><div class=\"sk-parallel-item\"><div class=\"sk-item\"><div class=\"sk-serial\"><div class=\"sk-item\"><div class=\"sk-estimator sk-toggleable\"><input class=\"sk-toggleable__control sk-hidden--visually\" id=\"54e013fe-7cfd-4880-ba19-4e8e4ccf8c66\" type=\"checkbox\" ><label for=\"54e013fe-7cfd-4880-ba19-4e8e4ccf8c66\" class=\"sk-toggleable__label sk-toggleable__label-arrow\">DecisionTreeClassifier</label><div class=\"sk-toggleable__content\"><pre>DecisionTreeClassifier()</pre></div></div></div></div></div></div></div></div><div class=\"sk-item\"><div class=\"sk-estimator sk-toggleable\"><input class=\"sk-toggleable__control sk-hidden--visually\" id=\"d0a1057c-5414-4fbc-b8cd-23ce7f59367c\" type=\"checkbox\" ><label for=\"d0a1057c-5414-4fbc-b8cd-23ce7f59367c\" class=\"sk-toggleable__label sk-toggleable__label-arrow\">RobustScaler</label><div class=\"sk-toggleable__content\"><pre>RobustScaler()</pre></div></div></div><div class=\"sk-item\"><div class=\"sk-estimator sk-toggleable\"><input class=\"sk-toggleable__control sk-hidden--visually\" id=\"a3b4d291-12ab-4835-bd69-7a11808276a9\" type=\"checkbox\" ><label for=\"a3b4d291-12ab-4835-bd69-7a11808276a9\" class=\"sk-toggleable__label sk-toggleable__label-arrow\">DecisionTreeClassifier</label><div class=\"sk-toggleable__content\"><pre>DecisionTreeClassifier()</pre></div></div></div></div></div></div></div></div></div></div></div></div>"
      ],
      "text/plain": [
       "RandomizedSearchCV(cv=3,\n",
       "                   estimator=Pipeline(steps=[('selector',\n",
       "                                              SelectFromModel(estimator=DecisionTreeClassifier())),\n",
       "                                             ('scaler', RobustScaler()),\n",
       "                                             ('model',\n",
       "                                              DecisionTreeClassifier())]),\n",
       "                   n_iter=20,\n",
       "                   param_distributions=[{'model__criterion': ['gini',\n",
       "                                                              'entropy'],\n",
       "                                         'model__max_depth': range(10, 40),\n",
       "                                         'model__max_features': ['auto', 'log2',\n",
       "                                                                 'sqrt', None],\n",
       "                                         'model__max_leaf_nodes': range(10, 40),\n",
       "                                         'model__min_samples_leaf': range(1, 10),\n",
       "                                         'model__min_samples_split': [2, 5, 10],\n",
       "                                         'model__splitter': ['best',\n",
       "                                                             'random']}],\n",
       "                   random_state=42, return_train_score=True, verbose=1)"
      ]
     },
     "execution_count": 2,
     "metadata": {},
     "output_type": "execute_result"
    }
   ],
   "source": [
    "joblib.load(\"credit card.h5\")"
   ]
  },
  {
   "cell_type": "markdown",
   "id": "748791e6",
   "metadata": {},
   "source": [
    "### load names of the features "
   ]
  },
  {
   "cell_type": "code",
   "execution_count": 3,
   "id": "70117fd1",
   "metadata": {
    "scrolled": true
   },
   "outputs": [
    {
     "data": {
      "text/plain": [
       "Index(['Annual_Income', 'Monthly_Inhand_Salary', 'Num_Bank_Accounts',\n",
       "       'Num_Credit_Card', 'Interest_Rate', 'Delay_from_due_date',\n",
       "       'Num_of_Delayed_Payment', 'Changed_Credit_Limit',\n",
       "       'Num_Credit_Inquiries', 'Outstanding_Debt', 'Credit_History_Age_years',\n",
       "       'Payment_of_Min_Amount_No', 'Payment_of_Min_Amount_Yes',\n",
       "       'Credit_Mix_Good', 'Credit_Mix_Standard'],\n",
       "      dtype='object')"
      ]
     },
     "execution_count": 3,
     "metadata": {},
     "output_type": "execute_result"
    }
   ],
   "source": [
    "joblib.load(\"credit card coulmns.h5\")"
   ]
  },
  {
   "cell_type": "markdown",
   "id": "2da350e3",
   "metadata": {},
   "source": [
    "# depoly the model using streamlit "
   ]
  },
  {
   "cell_type": "code",
   "execution_count": 4,
   "id": "ceed474b",
   "metadata": {},
   "outputs": [
    {
     "name": "stdout",
     "output_type": "stream",
     "text": [
      "Overwriting credit_card_classifier.py\n"
     ]
    }
   ],
   "source": [
    "%%writefile credit_card_classifier.py\n",
    "\n",
    "\n",
    "import pandas as pd \n",
    "import joblib \n",
    "import streamlit as st \n",
    "\n",
    "model = joblib.load('credit card.h5')\n",
    "inputs = joblib.load('credit card coulmns.h5')\n",
    "\n",
    "def predict (  Changed_Credit_Limit, Monthly_Inhand_Salary,Annual_Income,Num_Bank_Accounts,Num_Credit_Card, Interest_Rate,Delay_from_due_date,Num_of_Delayed_Payment, Num_Credit_Inquiries,Outstanding_Debt, Credit_History_Age_years ,Payment_of_Min_Amount_No, Payment_of_Min_Amount_Yes,Credit_Mix_Good, Credit_Mix_Standard):\n",
    "    test = pd.DataFrame(columns=inputs)\n",
    "    test.at[0 , \"Changed_Credit_Limit\"] = Changed_Credit_Limit\n",
    "    test.at[0 , \"Monthly_Inhand_Salary\"]= Monthly_Inhand_Salary\n",
    "    test.at[0 , \"Annual_Income\"] = Annual_Income\n",
    "    test.at[0,'Num_Bank_Accounts'] = Num_Bank_Accounts\n",
    "    test.at[0,'Num_Credit_Card'] =Num_Credit_Card\n",
    "    test.at[0,'Interest_Rate'] =Interest_Rate\n",
    "    test.at[0,'Delay_from_due_date']=Delay_from_due_date\n",
    "    test.at[0,'Num_of_Delayed_Payment']=Num_of_Delayed_Payment\n",
    "    test.at[0,'Num_Credit_Inquiries']=Num_Credit_Inquiries\n",
    "    test.at[0,'Outstanding_Debt']=Outstanding_Debt   \n",
    "    test.at[0,'Credit_History_Age_years'] =Credit_History_Age_years   \n",
    "    test.at[0,'Payment_of_Min_Amount_No']=Payment_of_Min_Amount_No   \n",
    "    test.at[0,'Payment_of_Min_Amount_Yes']=Payment_of_Min_Amount_Yes\n",
    "    test.at[0,'Credit_Mix_Good']=Credit_Mix_Good   \n",
    "    test.at[0,'Credit_Mix_Standard'] =Credit_Mix_Standard\n",
    "    results = model.predict(test)[0]\n",
    "    return results\n",
    "\n",
    "\n",
    "def main ():\n",
    "    st.title(\"welcome to banking classfier project\")\n",
    "    Changed_Credit_Limit = st.slider('Changed_Credit_Limit' , min_value = -6 , max_value= 36 , value= 1 , step=1)\n",
    "    Monthly_Inhand_Salary = st.slider('Monthly_Inhand_Salary' , min_value=305 , max_value = 15500 , value = 500 , step= 200)\n",
    "    Annual_Income = st.slider(\"Annual_Income\" , min_value= 7000 , max_value=920000 , value=8000 , step= 500)\n",
    "    Num_Bank_Accounts=st.slider('Num_Bank_Accounts' , min_value=1 , max_value=30 , value=1 , step=1)\n",
    "    Num_Credit_Card=st.slider('num_Credit_Card' , min_value=1 , max_value=40 , value=1 , step=1)\n",
    "    Interest_Rate=st.slider('Interest_Rate' , min_value= 1 , max_value=34 , value=1 , step=1)\n",
    "    Delay_from_due_date=st.slider('Delay_from_due_date' , min_value=-10 , max_value= 70 , value=0 , step=1 )\n",
    "    Num_of_Delayed_Payment=st.slider('Num_of_Delayed_Payment' , min_value=-5 , max_value= 40 , value=0 , step=1 )\n",
    "    Num_Credit_Inquiries=st.slider('Num_Credit_Inquiries' , min_value=0 , max_value= 20 , value=0 , step=1 )\n",
    "    Outstanding_Debt=st.number_input('Outstanding_Debt' ,min_value= 0  , max_value=1000000)\n",
    "    Credit_History_Age_years=st.slider('Credit_History_Age_years' , min_value=0 , max_value=40 , value = 5 , step=1)\n",
    "    Payment_of_Min_Amount_No=st.selectbox('Payment_of_Min_Amount_No' , [0 , 1])\n",
    "    Payment_of_Min_Amount_Yes=st.selectbox('Payment_of_Min_Amount_Yes' , [0 , 1])\n",
    "    Credit_Mix_Good=st.selectbox('Credit_Mix_Good' , [0 , 1])\n",
    "    Credit_Mix_Standard=st.selectbox('Credit_Mix_Standard' , [ 0 , 1])\n",
    "    \n",
    "\n",
    "    if st.button('predict'):\n",
    "        ans = predict( Changed_Credit_Limit,Monthly_Inhand_Salary,Annual_Income,Num_Bank_Accounts,Num_Credit_Card,Interest_Rate,Delay_from_due_date,Num_of_Delayed_Payment,Num_Credit_Inquiries,Outstanding_Debt, Credit_History_Age_years ,Payment_of_Min_Amount_No,Payment_of_Min_Amount_Yes,Credit_Mix_Good, Credit_Mix_Standard)\n",
    "        if ans == 0 :\n",
    "            st.write(\"good\")\n",
    "        elif  ans == 1 :\n",
    "            st.write(\"poor\")\n",
    "        else : \n",
    "            st.write(\"Standard\")\n",
    "main() "
   ]
  },
  {
   "cell_type": "code",
   "execution_count": null,
   "id": "ee097451",
   "metadata": {},
   "outputs": [],
   "source": [
    "!streamlit run credit_card_classifier.py"
   ]
  },
  {
   "cell_type": "code",
   "execution_count": null,
   "id": "b09ec8ca",
   "metadata": {},
   "outputs": [],
   "source": []
  }
 ],
 "metadata": {
  "kernelspec": {
   "display_name": "Python 3 (ipykernel)",
   "language": "python",
   "name": "python3"
  },
  "language_info": {
   "codemirror_mode": {
    "name": "ipython",
    "version": 3
   },
   "file_extension": ".py",
   "mimetype": "text/x-python",
   "name": "python",
   "nbconvert_exporter": "python",
   "pygments_lexer": "ipython3",
   "version": "3.10.4"
  }
 },
 "nbformat": 4,
 "nbformat_minor": 5
}
