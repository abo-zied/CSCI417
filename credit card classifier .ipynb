{
 "cells": [
  {
   "cell_type": "markdown",
   "id": "84ad7c24",
   "metadata": {},
   "source": [
    "### Required libraries for machine learning  and set seaborn style\n",
    "### ----------------------------------------------------------------------------------------"
   ]
  },
  {
   "cell_type": "code",
   "execution_count": 36,
   "id": "8b550640",
   "metadata": {},
   "outputs": [
    {
     "name": "stderr",
     "output_type": "stream",
     "text": [
      "D:\\anaconda\\envs\\epsilon_eslam\\lib\\site-packages\\seaborn\\rcmod.py:400: DeprecationWarning: distutils Version classes are deprecated. Use packaging.version instead.\n",
      "  if LooseVersion(mpl.__version__) >= \"3.0\":\n",
      "D:\\anaconda\\envs\\epsilon_eslam\\lib\\site-packages\\setuptools\\_distutils\\version.py:351: DeprecationWarning: distutils Version classes are deprecated. Use packaging.version instead.\n",
      "  other = LooseVersion(other)\n"
     ]
    }
   ],
   "source": [
    "import pandas as pd \n",
    "import numpy as np \n",
    "import seaborn as sns \n",
    "from sklearn.pipeline import Pipeline\n",
    "from sklearn.compose import ColumnTransformer\n",
    "from sklearn.ensemble import AdaBoostClassifier , BaggingClassifier , GradientBoostingClassifier , RandomForestClassifier , ExtraTreesClassifier\n",
    "from sklearn.preprocessing import StandardScaler , RobustScaler , MinMaxScaler , OneHotEncoder , LabelEncoder\n",
    "from category_encoders import BinaryEncoder\n",
    "from sklearn.svm import LinearSVC , SVC \n",
    "from sklearn.tree import DecisionTreeClassifier , ExtraTreeClassifier\n",
    "from sklearn.model_selection import cross_validate , RepeatedStratifiedKFold , RandomizedSearchCV ,GridSearchCV\n",
    "from sklearn.linear_model import LogisticRegression\n",
    "from sklearn.naive_bayes import GaussianNB , BernoulliNB \n",
    "from sklearn.preprocessing import LabelEncoder\n",
    "from sklearn.neighbors import KNeighborsClassifier\n",
    "from sklearn.feature_selection import SequentialFeatureSelector\n",
    "import warnings\n",
    "warnings.filterwarnings('ignore')\n",
    "warnings.filterwarnings(action='once')\n",
    "from sklearn.feature_selection import SelectFromModel  \n",
    "from sklearn.decomposition import PCA\n",
    "from xgboost import XGBClassifier\n",
    "sns.set_theme(context = 'notebook' , palette = 'seismic' , font_scale = 0.8 , style = 'darkgrid' , rc = {'figure.figsize':[16 , 7]})\n"
   ]
  },
  {
   "cell_type": "markdown",
   "id": "83226dc1",
   "metadata": {},
   "source": [
    "### scanning the file to dataframe \n",
    "### ------------------------------------------"
   ]
  },
  {
   "cell_type": "code",
   "execution_count": 2,
   "id": "0235c4e3",
   "metadata": {},
   "outputs": [
    {
     "data": {
      "text/html": [
       "<div>\n",
       "<style scoped>\n",
       "    .dataframe tbody tr th:only-of-type {\n",
       "        vertical-align: middle;\n",
       "    }\n",
       "\n",
       "    .dataframe tbody tr th {\n",
       "        vertical-align: top;\n",
       "    }\n",
       "\n",
       "    .dataframe thead th {\n",
       "        text-align: right;\n",
       "    }\n",
       "</style>\n",
       "<table border=\"1\" class=\"dataframe\">\n",
       "  <thead>\n",
       "    <tr style=\"text-align: right;\">\n",
       "      <th></th>\n",
       "      <th>Unnamed: 0</th>\n",
       "      <th>ID</th>\n",
       "      <th>Customer_ID</th>\n",
       "      <th>Month</th>\n",
       "      <th>Name</th>\n",
       "      <th>Age</th>\n",
       "      <th>SSN</th>\n",
       "      <th>Occupation</th>\n",
       "      <th>Annual_Income</th>\n",
       "      <th>Monthly_Inhand_Salary</th>\n",
       "      <th>...</th>\n",
       "      <th>Credit_Mix</th>\n",
       "      <th>Outstanding_Debt</th>\n",
       "      <th>Credit_Utilization_Ratio</th>\n",
       "      <th>Credit_History_Age</th>\n",
       "      <th>Payment_of_Min_Amount</th>\n",
       "      <th>Total_EMI_per_month</th>\n",
       "      <th>Amount_invested_monthly</th>\n",
       "      <th>Payment_Behaviour</th>\n",
       "      <th>Monthly_Balance</th>\n",
       "      <th>Credit_Score</th>\n",
       "    </tr>\n",
       "  </thead>\n",
       "  <tbody>\n",
       "    <tr>\n",
       "      <th>0</th>\n",
       "      <td>2</td>\n",
       "      <td>0x1604</td>\n",
       "      <td>CUS_0xd40</td>\n",
       "      <td>March</td>\n",
       "      <td>Aaron Maashoh</td>\n",
       "      <td>33</td>\n",
       "      <td>821-00-0265</td>\n",
       "      <td>Scientist</td>\n",
       "      <td>19114.12</td>\n",
       "      <td>1824.843333</td>\n",
       "      <td>...</td>\n",
       "      <td>Good</td>\n",
       "      <td>809.98</td>\n",
       "      <td>28.609352</td>\n",
       "      <td>22 Years and 3 Months</td>\n",
       "      <td>No</td>\n",
       "      <td>49.574949</td>\n",
       "      <td>81.699521</td>\n",
       "      <td>Low_spent_Medium_value_payments</td>\n",
       "      <td>331.209863</td>\n",
       "      <td>Good</td>\n",
       "    </tr>\n",
       "    <tr>\n",
       "      <th>1</th>\n",
       "      <td>3</td>\n",
       "      <td>0x1605</td>\n",
       "      <td>CUS_0xd40</td>\n",
       "      <td>April</td>\n",
       "      <td>Aaron Maashoh</td>\n",
       "      <td>23</td>\n",
       "      <td>821-00-0265</td>\n",
       "      <td>Scientist</td>\n",
       "      <td>19114.12</td>\n",
       "      <td>1824.843333</td>\n",
       "      <td>...</td>\n",
       "      <td>Good</td>\n",
       "      <td>809.98</td>\n",
       "      <td>31.377862</td>\n",
       "      <td>22 Years and 4 Months</td>\n",
       "      <td>No</td>\n",
       "      <td>49.574949</td>\n",
       "      <td>199.458074</td>\n",
       "      <td>Low_spent_Small_value_payments</td>\n",
       "      <td>223.451310</td>\n",
       "      <td>Good</td>\n",
       "    </tr>\n",
       "    <tr>\n",
       "      <th>2</th>\n",
       "      <td>6</td>\n",
       "      <td>0x1608</td>\n",
       "      <td>CUS_0xd40</td>\n",
       "      <td>July</td>\n",
       "      <td>Aaron Maashoh</td>\n",
       "      <td>23</td>\n",
       "      <td>821-00-0265</td>\n",
       "      <td>Scientist</td>\n",
       "      <td>19114.12</td>\n",
       "      <td>1824.843333</td>\n",
       "      <td>...</td>\n",
       "      <td>Good</td>\n",
       "      <td>809.98</td>\n",
       "      <td>22.537593</td>\n",
       "      <td>22 Years and 7 Months</td>\n",
       "      <td>No</td>\n",
       "      <td>49.574949</td>\n",
       "      <td>178.344067</td>\n",
       "      <td>Low_spent_Small_value_payments</td>\n",
       "      <td>244.565317</td>\n",
       "      <td>Good</td>\n",
       "    </tr>\n",
       "    <tr>\n",
       "      <th>3</th>\n",
       "      <td>7</td>\n",
       "      <td>0x1609</td>\n",
       "      <td>CUS_0xd40</td>\n",
       "      <td>August</td>\n",
       "      <td>NaN</td>\n",
       "      <td>23</td>\n",
       "      <td>NaN</td>\n",
       "      <td>Scientist</td>\n",
       "      <td>19114.12</td>\n",
       "      <td>1824.843333</td>\n",
       "      <td>...</td>\n",
       "      <td>Good</td>\n",
       "      <td>809.98</td>\n",
       "      <td>23.933795</td>\n",
       "      <td>22 Years and 7 Months</td>\n",
       "      <td>No</td>\n",
       "      <td>49.574949</td>\n",
       "      <td>24.785217</td>\n",
       "      <td>High_spent_Medium_value_payments</td>\n",
       "      <td>358.124168</td>\n",
       "      <td>Standard</td>\n",
       "    </tr>\n",
       "    <tr>\n",
       "      <th>4</th>\n",
       "      <td>8</td>\n",
       "      <td>0x160e</td>\n",
       "      <td>CUS_0x21b1</td>\n",
       "      <td>January</td>\n",
       "      <td>Rick Rothackerj</td>\n",
       "      <td>28</td>\n",
       "      <td>004-07-5839</td>\n",
       "      <td>other</td>\n",
       "      <td>34847.84</td>\n",
       "      <td>3037.986667</td>\n",
       "      <td>...</td>\n",
       "      <td>Good</td>\n",
       "      <td>605.03</td>\n",
       "      <td>24.464031</td>\n",
       "      <td>26 Years and 7 Months</td>\n",
       "      <td>No</td>\n",
       "      <td>18.816215</td>\n",
       "      <td>104.291825</td>\n",
       "      <td>Low_spent_Small_value_payments</td>\n",
       "      <td>470.690627</td>\n",
       "      <td>Standard</td>\n",
       "    </tr>\n",
       "    <tr>\n",
       "      <th>...</th>\n",
       "      <td>...</td>\n",
       "      <td>...</td>\n",
       "      <td>...</td>\n",
       "      <td>...</td>\n",
       "      <td>...</td>\n",
       "      <td>...</td>\n",
       "      <td>...</td>\n",
       "      <td>...</td>\n",
       "      <td>...</td>\n",
       "      <td>...</td>\n",
       "      <td>...</td>\n",
       "      <td>...</td>\n",
       "      <td>...</td>\n",
       "      <td>...</td>\n",
       "      <td>...</td>\n",
       "      <td>...</td>\n",
       "      <td>...</td>\n",
       "      <td>...</td>\n",
       "      <td>...</td>\n",
       "      <td>...</td>\n",
       "      <td>...</td>\n",
       "    </tr>\n",
       "    <tr>\n",
       "      <th>50754</th>\n",
       "      <td>99020</td>\n",
       "      <td>0x25fd3</td>\n",
       "      <td>CUS_0xaf61</td>\n",
       "      <td>June</td>\n",
       "      <td>Chris Wickhamm</td>\n",
       "      <td>50</td>\n",
       "      <td>133-16-7738</td>\n",
       "      <td>Writer</td>\n",
       "      <td>37188.10</td>\n",
       "      <td>3097.008333</td>\n",
       "      <td>...</td>\n",
       "      <td>Good</td>\n",
       "      <td>620.64</td>\n",
       "      <td>37.753013</td>\n",
       "      <td>30 Years and 2 Months</td>\n",
       "      <td>NM</td>\n",
       "      <td>84.205949</td>\n",
       "      <td>147.339908</td>\n",
       "      <td>Low_spent_Small_value_payments</td>\n",
       "      <td>368.154976</td>\n",
       "      <td>Good</td>\n",
       "    </tr>\n",
       "    <tr>\n",
       "      <th>50755</th>\n",
       "      <td>99023</td>\n",
       "      <td>0x25fda</td>\n",
       "      <td>CUS_0x8600</td>\n",
       "      <td>January</td>\n",
       "      <td>Sarah McBridec</td>\n",
       "      <td>28</td>\n",
       "      <td>031-35-0942</td>\n",
       "      <td>Architect</td>\n",
       "      <td>20002.88</td>\n",
       "      <td>1929.906667</td>\n",
       "      <td>...</td>\n",
       "      <td>Bad</td>\n",
       "      <td>3571.70</td>\n",
       "      <td>22.895966</td>\n",
       "      <td>5 Years and 8 Months</td>\n",
       "      <td>Yes</td>\n",
       "      <td>60.964772</td>\n",
       "      <td>43.370670</td>\n",
       "      <td>High_spent_Large_value_payments</td>\n",
       "      <td>328.655224</td>\n",
       "      <td>Poor</td>\n",
       "    </tr>\n",
       "    <tr>\n",
       "      <th>50756</th>\n",
       "      <td>99025</td>\n",
       "      <td>0x25fdc</td>\n",
       "      <td>CUS_0x8600</td>\n",
       "      <td>March</td>\n",
       "      <td>NaN</td>\n",
       "      <td>28</td>\n",
       "      <td>031-35-0942</td>\n",
       "      <td>Architect</td>\n",
       "      <td>20002.88</td>\n",
       "      <td>1929.906667</td>\n",
       "      <td>...</td>\n",
       "      <td>Bad</td>\n",
       "      <td>3571.70</td>\n",
       "      <td>24.713861</td>\n",
       "      <td>5 Years and 10 Months</td>\n",
       "      <td>Yes</td>\n",
       "      <td>60.964772</td>\n",
       "      <td>76.282793</td>\n",
       "      <td>Low_spent_Small_value_payments</td>\n",
       "      <td>345.743101</td>\n",
       "      <td>Poor</td>\n",
       "    </tr>\n",
       "    <tr>\n",
       "      <th>50757</th>\n",
       "      <td>99029</td>\n",
       "      <td>0x25fe0</td>\n",
       "      <td>CUS_0x8600</td>\n",
       "      <td>July</td>\n",
       "      <td>Sarah McBridec</td>\n",
       "      <td>28</td>\n",
       "      <td>031-35-0942</td>\n",
       "      <td>Architect</td>\n",
       "      <td>20002.88</td>\n",
       "      <td>1929.906667</td>\n",
       "      <td>...</td>\n",
       "      <td>Bad</td>\n",
       "      <td>3571.70</td>\n",
       "      <td>25.123535</td>\n",
       "      <td>6 Years and 1 Months</td>\n",
       "      <td>Yes</td>\n",
       "      <td>60.964772</td>\n",
       "      <td>173.275503</td>\n",
       "      <td>Low_spent_Large_value_payments</td>\n",
       "      <td>228.750392</td>\n",
       "      <td>Standard</td>\n",
       "    </tr>\n",
       "    <tr>\n",
       "      <th>50758</th>\n",
       "      <td>99030</td>\n",
       "      <td>0x25fe1</td>\n",
       "      <td>CUS_0x8600</td>\n",
       "      <td>August</td>\n",
       "      <td>Sarah McBridec</td>\n",
       "      <td>29</td>\n",
       "      <td>031-35-0942</td>\n",
       "      <td>Architect</td>\n",
       "      <td>20002.88</td>\n",
       "      <td>1929.906667</td>\n",
       "      <td>...</td>\n",
       "      <td>Bad</td>\n",
       "      <td>3571.70</td>\n",
       "      <td>37.140784</td>\n",
       "      <td>6 Years and 3 Months</td>\n",
       "      <td>Yes</td>\n",
       "      <td>60.964772</td>\n",
       "      <td>34.662906</td>\n",
       "      <td>High_spent_Large_value_payments</td>\n",
       "      <td>337.362988</td>\n",
       "      <td>Standard</td>\n",
       "    </tr>\n",
       "  </tbody>\n",
       "</table>\n",
       "<p>50759 rows × 29 columns</p>\n",
       "</div>"
      ],
      "text/plain": [
       "       Unnamed: 0       ID Customer_ID    Month             Name  Age  \\\n",
       "0               2   0x1604   CUS_0xd40    March    Aaron Maashoh   33   \n",
       "1               3   0x1605   CUS_0xd40    April    Aaron Maashoh   23   \n",
       "2               6   0x1608   CUS_0xd40     July    Aaron Maashoh   23   \n",
       "3               7   0x1609   CUS_0xd40   August              NaN   23   \n",
       "4               8   0x160e  CUS_0x21b1  January  Rick Rothackerj   28   \n",
       "...           ...      ...         ...      ...              ...  ...   \n",
       "50754       99020  0x25fd3  CUS_0xaf61     June   Chris Wickhamm   50   \n",
       "50755       99023  0x25fda  CUS_0x8600  January   Sarah McBridec   28   \n",
       "50756       99025  0x25fdc  CUS_0x8600    March              NaN   28   \n",
       "50757       99029  0x25fe0  CUS_0x8600     July   Sarah McBridec   28   \n",
       "50758       99030  0x25fe1  CUS_0x8600   August   Sarah McBridec   29   \n",
       "\n",
       "               SSN Occupation  Annual_Income  Monthly_Inhand_Salary  ...  \\\n",
       "0      821-00-0265  Scientist       19114.12            1824.843333  ...   \n",
       "1      821-00-0265  Scientist       19114.12            1824.843333  ...   \n",
       "2      821-00-0265  Scientist       19114.12            1824.843333  ...   \n",
       "3              NaN  Scientist       19114.12            1824.843333  ...   \n",
       "4      004-07-5839      other       34847.84            3037.986667  ...   \n",
       "...            ...        ...            ...                    ...  ...   \n",
       "50754  133-16-7738     Writer       37188.10            3097.008333  ...   \n",
       "50755  031-35-0942  Architect       20002.88            1929.906667  ...   \n",
       "50756  031-35-0942  Architect       20002.88            1929.906667  ...   \n",
       "50757  031-35-0942  Architect       20002.88            1929.906667  ...   \n",
       "50758  031-35-0942  Architect       20002.88            1929.906667  ...   \n",
       "\n",
       "       Credit_Mix  Outstanding_Debt  Credit_Utilization_Ratio  \\\n",
       "0            Good            809.98                 28.609352   \n",
       "1            Good            809.98                 31.377862   \n",
       "2            Good            809.98                 22.537593   \n",
       "3            Good            809.98                 23.933795   \n",
       "4            Good            605.03                 24.464031   \n",
       "...           ...               ...                       ...   \n",
       "50754        Good            620.64                 37.753013   \n",
       "50755         Bad           3571.70                 22.895966   \n",
       "50756         Bad           3571.70                 24.713861   \n",
       "50757         Bad           3571.70                 25.123535   \n",
       "50758         Bad           3571.70                 37.140784   \n",
       "\n",
       "          Credit_History_Age Payment_of_Min_Amount  Total_EMI_per_month  \\\n",
       "0      22 Years and 3 Months                    No            49.574949   \n",
       "1      22 Years and 4 Months                    No            49.574949   \n",
       "2      22 Years and 7 Months                    No            49.574949   \n",
       "3      22 Years and 7 Months                    No            49.574949   \n",
       "4      26 Years and 7 Months                    No            18.816215   \n",
       "...                      ...                   ...                  ...   \n",
       "50754  30 Years and 2 Months                    NM            84.205949   \n",
       "50755   5 Years and 8 Months                   Yes            60.964772   \n",
       "50756  5 Years and 10 Months                   Yes            60.964772   \n",
       "50757   6 Years and 1 Months                   Yes            60.964772   \n",
       "50758   6 Years and 3 Months                   Yes            60.964772   \n",
       "\n",
       "       Amount_invested_monthly                 Payment_Behaviour  \\\n",
       "0                    81.699521   Low_spent_Medium_value_payments   \n",
       "1                   199.458074    Low_spent_Small_value_payments   \n",
       "2                   178.344067    Low_spent_Small_value_payments   \n",
       "3                    24.785217  High_spent_Medium_value_payments   \n",
       "4                   104.291825    Low_spent_Small_value_payments   \n",
       "...                        ...                               ...   \n",
       "50754               147.339908    Low_spent_Small_value_payments   \n",
       "50755                43.370670   High_spent_Large_value_payments   \n",
       "50756                76.282793    Low_spent_Small_value_payments   \n",
       "50757               173.275503    Low_spent_Large_value_payments   \n",
       "50758                34.662906   High_spent_Large_value_payments   \n",
       "\n",
       "       Monthly_Balance Credit_Score  \n",
       "0           331.209863         Good  \n",
       "1           223.451310         Good  \n",
       "2           244.565317         Good  \n",
       "3           358.124168     Standard  \n",
       "4           470.690627     Standard  \n",
       "...                ...          ...  \n",
       "50754       368.154976         Good  \n",
       "50755       328.655224         Poor  \n",
       "50756       345.743101         Poor  \n",
       "50757       228.750392     Standard  \n",
       "50758       337.362988     Standard  \n",
       "\n",
       "[50759 rows x 29 columns]"
      ]
     },
     "execution_count": 2,
     "metadata": {},
     "output_type": "execute_result"
    }
   ],
   "source": [
    "df = pd.read_csv('Credit_card_data.csv')\n",
    "df"
   ]
  },
  {
   "cell_type": "markdown",
   "id": "bef307a7",
   "metadata": {},
   "source": [
    "### check duplicated ?\n",
    "### ---------------------------"
   ]
  },
  {
   "cell_type": "code",
   "execution_count": 3,
   "id": "643e68ce",
   "metadata": {},
   "outputs": [
    {
     "data": {
      "text/plain": [
       "0"
      ]
     },
     "execution_count": 3,
     "metadata": {},
     "output_type": "execute_result"
    }
   ],
   "source": [
    "df.duplicated().sum()"
   ]
  },
  {
   "cell_type": "markdown",
   "id": "be03b742",
   "metadata": {},
   "source": [
    "### number of NaN valuses in each coulmns \n",
    "### ----------------------------------------------------------"
   ]
  },
  {
   "cell_type": "code",
   "execution_count": 4,
   "id": "115ea47f",
   "metadata": {},
   "outputs": [
    {
     "data": {
      "text/plain": [
       "Unnamed: 0                     0\n",
       "ID                             0\n",
       "Customer_ID                    0\n",
       "Month                          0\n",
       "Name                        5102\n",
       "Age                            0\n",
       "SSN                         2796\n",
       "Occupation                     0\n",
       "Annual_Income                  0\n",
       "Monthly_Inhand_Salary          0\n",
       "Num_Bank_Accounts              0\n",
       "Num_Credit_Card                0\n",
       "Interest_Rate                  0\n",
       "Num_of_Loan                    0\n",
       "Type_of_Loan                   0\n",
       "Delay_from_due_date            0\n",
       "Num_of_Delayed_Payment         0\n",
       "Changed_Credit_Limit           0\n",
       "Num_Credit_Inquiries           0\n",
       "Credit_Mix                     0\n",
       "Outstanding_Debt               0\n",
       "Credit_Utilization_Ratio       0\n",
       "Credit_History_Age             0\n",
       "Payment_of_Min_Amount          0\n",
       "Total_EMI_per_month            0\n",
       "Amount_invested_monthly        0\n",
       "Payment_Behaviour              0\n",
       "Monthly_Balance                0\n",
       "Credit_Score                   0\n",
       "dtype: int64"
      ]
     },
     "execution_count": 4,
     "metadata": {},
     "output_type": "execute_result"
    }
   ],
   "source": [
    "df.isnull().sum()"
   ]
  },
  {
   "cell_type": "markdown",
   "id": "5c90891c",
   "metadata": {},
   "source": [
    "### exploring categorical data to drop useless coulmns and start data preprocessing \n",
    "### --------------------------------------------------------------------------------------------------------------------"
   ]
  },
  {
   "cell_type": "code",
   "execution_count": 5,
   "id": "6705f2dd",
   "metadata": {},
   "outputs": [
    {
     "data": {
      "text/plain": [
       "10626"
      ]
     },
     "execution_count": 5,
     "metadata": {},
     "output_type": "execute_result"
    }
   ],
   "source": [
    "len(df['SSN'].unique())"
   ]
  },
  {
   "cell_type": "code",
   "execution_count": 6,
   "id": "18c88d3f",
   "metadata": {},
   "outputs": [
    {
     "data": {
      "text/plain": [
       "6185"
      ]
     },
     "execution_count": 6,
     "metadata": {},
     "output_type": "execute_result"
    }
   ],
   "source": [
    "len(df['Type_of_Loan'].unique())"
   ]
  },
  {
   "cell_type": "code",
   "execution_count": 7,
   "id": "0a134a02",
   "metadata": {},
   "outputs": [
    {
     "data": {
      "text/plain": [
       "array(['Low_spent_Medium_value_payments',\n",
       "       'Low_spent_Small_value_payments',\n",
       "       'High_spent_Medium_value_payments',\n",
       "       'High_spent_Large_value_payments',\n",
       "       'High_spent_Small_value_payments',\n",
       "       'Low_spent_Large_value_payments'], dtype=object)"
      ]
     },
     "execution_count": 7,
     "metadata": {},
     "output_type": "execute_result"
    }
   ],
   "source": [
    "df['Payment_Behaviour'].unique()"
   ]
  },
  {
   "cell_type": "markdown",
   "id": "5b5e4227",
   "metadata": {},
   "source": [
    "### drop useless coulmns \n",
    "### --------------------------------"
   ]
  },
  {
   "cell_type": "code",
   "execution_count": 8,
   "id": "2aafa36e",
   "metadata": {},
   "outputs": [],
   "source": [
    "df.drop(['Unnamed: 0' , 'Customer_ID' , 'ID' , 'Name' , 'Type_of_Loan' , 'SSN'] , axis = 1  , inplace = True)"
   ]
  },
  {
   "cell_type": "markdown",
   "id": "0d46dc76",
   "metadata": {},
   "source": [
    "### feature engineering \n",
    "### ----------------------------"
   ]
  },
  {
   "cell_type": "code",
   "execution_count": 9,
   "id": "42a8c496",
   "metadata": {},
   "outputs": [
    {
     "data": {
      "text/plain": [
       "0        [22 Years ,  3 Months]\n",
       "1        [22 Years ,  4 Months]\n",
       "2        [22 Years ,  7 Months]\n",
       "3        [22 Years ,  7 Months]\n",
       "4        [26 Years ,  7 Months]\n",
       "                  ...          \n",
       "50754    [30 Years ,  2 Months]\n",
       "50755     [5 Years ,  8 Months]\n",
       "50756    [5 Years ,  10 Months]\n",
       "50757     [6 Years ,  1 Months]\n",
       "50758     [6 Years ,  3 Months]\n",
       "Name: Credit_History_Age, Length: 50759, dtype: object"
      ]
     },
     "execution_count": 9,
     "metadata": {},
     "output_type": "execute_result"
    }
   ],
   "source": [
    "df['Credit_History_Age'].apply(lambda x : x.split(\"and\"))"
   ]
  },
  {
   "cell_type": "code",
   "execution_count": 10,
   "id": "f21ed026",
   "metadata": {},
   "outputs": [],
   "source": [
    "df['Credit_History_Age_years']=df['Credit_History_Age'].apply(lambda x : x.split(\"and\")[0])"
   ]
  },
  {
   "cell_type": "code",
   "execution_count": 11,
   "id": "171b86a5",
   "metadata": {},
   "outputs": [],
   "source": [
    "df.Credit_History_Age_years = df['Credit_History_Age_years'].apply(lambda x : x.replace(\"Years\" , \"\")) \n",
    "## clean feature"
   ]
  },
  {
   "cell_type": "code",
   "execution_count": 12,
   "id": "b7cd71fb",
   "metadata": {},
   "outputs": [],
   "source": [
    "df['Credit_History_Age_years']= df['Credit_History_Age_years'].astype(int)"
   ]
  },
  {
   "cell_type": "code",
   "execution_count": 13,
   "id": "591b6fee",
   "metadata": {},
   "outputs": [],
   "source": [
    "df.drop('Credit_History_Age' , axis = 1 , inplace = True)"
   ]
  },
  {
   "cell_type": "code",
   "execution_count": 14,
   "id": "7bc3cf91",
   "metadata": {},
   "outputs": [
    {
     "data": {
      "text/plain": [
       "0        22\n",
       "1        22\n",
       "2        22\n",
       "3        22\n",
       "4        26\n",
       "         ..\n",
       "50754    30\n",
       "50755     5\n",
       "50756     5\n",
       "50757     6\n",
       "50758     6\n",
       "Name: Credit_History_Age_years, Length: 50759, dtype: int32"
      ]
     },
     "execution_count": 14,
     "metadata": {},
     "output_type": "execute_result"
    }
   ],
   "source": [
    "df['Credit_History_Age_years']"
   ]
  },
  {
   "cell_type": "markdown",
   "id": "eca1d853",
   "metadata": {},
   "source": [
    "### encode the target and all features \n",
    "### ------------------------------------------------"
   ]
  },
  {
   "cell_type": "markdown",
   "id": "c99785ac",
   "metadata": {},
   "source": [
    "#### Credit_Score is a taret "
   ]
  },
  {
   "cell_type": "code",
   "execution_count": 15,
   "id": "f962c79f",
   "metadata": {},
   "outputs": [],
   "source": [
    "encoder  = LabelEncoder()\n",
    "df['Credit_Score'] = encoder.fit_transform(df['Credit_Score']) #{poor : 1} {good : 0} {standred : 2}"
   ]
  },
  {
   "cell_type": "code",
   "execution_count": 16,
   "id": "2967645d",
   "metadata": {},
   "outputs": [
    {
     "data": {
      "text/plain": [
       "0        0\n",
       "1        0\n",
       "2        0\n",
       "3        2\n",
       "4        2\n",
       "        ..\n",
       "50754    0\n",
       "50755    1\n",
       "50756    1\n",
       "50757    2\n",
       "50758    2\n",
       "Name: Credit_Score, Length: 50759, dtype: int32"
      ]
     },
     "execution_count": 16,
     "metadata": {},
     "output_type": "execute_result"
    }
   ],
   "source": [
    "df['Credit_Score']"
   ]
  },
  {
   "cell_type": "markdown",
   "id": "60f7f7cb",
   "metadata": {},
   "source": [
    "#### month must label encoder by mapping "
   ]
  },
  {
   "cell_type": "code",
   "execution_count": 17,
   "id": "6e49e6d2",
   "metadata": {},
   "outputs": [],
   "source": [
    "emcoding_months = {'March' :3,  'June' : 5 ,'January':1,  'July':7 ,'February': 2 , 'April' : 4, 'May' : 5 , 'August':8}"
   ]
  },
  {
   "cell_type": "code",
   "execution_count": 18,
   "id": "41a5a526",
   "metadata": {},
   "outputs": [],
   "source": [
    "df['Month']= df['Month'].map(emcoding_months)"
   ]
  },
  {
   "cell_type": "code",
   "execution_count": 19,
   "id": "ee6859a1",
   "metadata": {},
   "outputs": [
    {
     "data": {
      "text/plain": [
       "0        3\n",
       "1        4\n",
       "2        7\n",
       "3        8\n",
       "4        1\n",
       "        ..\n",
       "50754    5\n",
       "50755    1\n",
       "50756    3\n",
       "50757    7\n",
       "50758    8\n",
       "Name: Month, Length: 50759, dtype: int64"
      ]
     },
     "execution_count": 19,
     "metadata": {},
     "output_type": "execute_result"
    }
   ],
   "source": [
    "df['Month']"
   ]
  },
  {
   "cell_type": "markdown",
   "id": "54dd3bad",
   "metadata": {},
   "source": [
    "#### encode unlabel coulmns by OneHotEncoder "
   ]
  },
  {
   "cell_type": "code",
   "execution_count": 20,
   "id": "687a5e4a",
   "metadata": {},
   "outputs": [],
   "source": [
    "encoder = OneHotEncoder(sparse=False , drop='first')"
   ]
  },
  {
   "cell_type": "code",
   "execution_count": 21,
   "id": "71b1343d",
   "metadata": {},
   "outputs": [],
   "source": [
    "transformed = encoder.fit_transform(df[['Occupation' , 'Payment_Behaviour' , 'Payment_of_Min_Amount' ,'Credit_Mix']])"
   ]
  },
  {
   "cell_type": "code",
   "execution_count": 22,
   "id": "7879eaee",
   "metadata": {},
   "outputs": [],
   "source": [
    "transformed_df = pd.DataFrame(transformed , columns=encoder.get_feature_names_out())"
   ]
  },
  {
   "cell_type": "code",
   "execution_count": 23,
   "id": "fd528205",
   "metadata": {},
   "outputs": [
    {
     "data": {
      "text/html": [
       "<div>\n",
       "<style scoped>\n",
       "    .dataframe tbody tr th:only-of-type {\n",
       "        vertical-align: middle;\n",
       "    }\n",
       "\n",
       "    .dataframe tbody tr th {\n",
       "        vertical-align: top;\n",
       "    }\n",
       "\n",
       "    .dataframe thead th {\n",
       "        text-align: right;\n",
       "    }\n",
       "</style>\n",
       "<table border=\"1\" class=\"dataframe\">\n",
       "  <thead>\n",
       "    <tr style=\"text-align: right;\">\n",
       "      <th></th>\n",
       "      <th>Occupation_Architect</th>\n",
       "      <th>Occupation_Developer</th>\n",
       "      <th>Occupation_Doctor</th>\n",
       "      <th>Occupation_Engineer</th>\n",
       "      <th>Occupation_Entrepreneur</th>\n",
       "      <th>Occupation_Journalist</th>\n",
       "      <th>Occupation_Lawyer</th>\n",
       "      <th>Occupation_Manager</th>\n",
       "      <th>Occupation_Mechanic</th>\n",
       "      <th>Occupation_Media_Manager</th>\n",
       "      <th>...</th>\n",
       "      <th>Occupation_other</th>\n",
       "      <th>Payment_Behaviour_High_spent_Medium_value_payments</th>\n",
       "      <th>Payment_Behaviour_High_spent_Small_value_payments</th>\n",
       "      <th>Payment_Behaviour_Low_spent_Large_value_payments</th>\n",
       "      <th>Payment_Behaviour_Low_spent_Medium_value_payments</th>\n",
       "      <th>Payment_Behaviour_Low_spent_Small_value_payments</th>\n",
       "      <th>Payment_of_Min_Amount_No</th>\n",
       "      <th>Payment_of_Min_Amount_Yes</th>\n",
       "      <th>Credit_Mix_Good</th>\n",
       "      <th>Credit_Mix_Standard</th>\n",
       "    </tr>\n",
       "  </thead>\n",
       "  <tbody>\n",
       "    <tr>\n",
       "      <th>0</th>\n",
       "      <td>0.0</td>\n",
       "      <td>0.0</td>\n",
       "      <td>0.0</td>\n",
       "      <td>0.0</td>\n",
       "      <td>0.0</td>\n",
       "      <td>0.0</td>\n",
       "      <td>0.0</td>\n",
       "      <td>0.0</td>\n",
       "      <td>0.0</td>\n",
       "      <td>0.0</td>\n",
       "      <td>...</td>\n",
       "      <td>0.0</td>\n",
       "      <td>0.0</td>\n",
       "      <td>0.0</td>\n",
       "      <td>0.0</td>\n",
       "      <td>1.0</td>\n",
       "      <td>0.0</td>\n",
       "      <td>1.0</td>\n",
       "      <td>0.0</td>\n",
       "      <td>1.0</td>\n",
       "      <td>0.0</td>\n",
       "    </tr>\n",
       "    <tr>\n",
       "      <th>1</th>\n",
       "      <td>0.0</td>\n",
       "      <td>0.0</td>\n",
       "      <td>0.0</td>\n",
       "      <td>0.0</td>\n",
       "      <td>0.0</td>\n",
       "      <td>0.0</td>\n",
       "      <td>0.0</td>\n",
       "      <td>0.0</td>\n",
       "      <td>0.0</td>\n",
       "      <td>0.0</td>\n",
       "      <td>...</td>\n",
       "      <td>0.0</td>\n",
       "      <td>0.0</td>\n",
       "      <td>0.0</td>\n",
       "      <td>0.0</td>\n",
       "      <td>0.0</td>\n",
       "      <td>1.0</td>\n",
       "      <td>1.0</td>\n",
       "      <td>0.0</td>\n",
       "      <td>1.0</td>\n",
       "      <td>0.0</td>\n",
       "    </tr>\n",
       "    <tr>\n",
       "      <th>2</th>\n",
       "      <td>0.0</td>\n",
       "      <td>0.0</td>\n",
       "      <td>0.0</td>\n",
       "      <td>0.0</td>\n",
       "      <td>0.0</td>\n",
       "      <td>0.0</td>\n",
       "      <td>0.0</td>\n",
       "      <td>0.0</td>\n",
       "      <td>0.0</td>\n",
       "      <td>0.0</td>\n",
       "      <td>...</td>\n",
       "      <td>0.0</td>\n",
       "      <td>0.0</td>\n",
       "      <td>0.0</td>\n",
       "      <td>0.0</td>\n",
       "      <td>0.0</td>\n",
       "      <td>1.0</td>\n",
       "      <td>1.0</td>\n",
       "      <td>0.0</td>\n",
       "      <td>1.0</td>\n",
       "      <td>0.0</td>\n",
       "    </tr>\n",
       "    <tr>\n",
       "      <th>3</th>\n",
       "      <td>0.0</td>\n",
       "      <td>0.0</td>\n",
       "      <td>0.0</td>\n",
       "      <td>0.0</td>\n",
       "      <td>0.0</td>\n",
       "      <td>0.0</td>\n",
       "      <td>0.0</td>\n",
       "      <td>0.0</td>\n",
       "      <td>0.0</td>\n",
       "      <td>0.0</td>\n",
       "      <td>...</td>\n",
       "      <td>0.0</td>\n",
       "      <td>1.0</td>\n",
       "      <td>0.0</td>\n",
       "      <td>0.0</td>\n",
       "      <td>0.0</td>\n",
       "      <td>0.0</td>\n",
       "      <td>1.0</td>\n",
       "      <td>0.0</td>\n",
       "      <td>1.0</td>\n",
       "      <td>0.0</td>\n",
       "    </tr>\n",
       "    <tr>\n",
       "      <th>4</th>\n",
       "      <td>0.0</td>\n",
       "      <td>0.0</td>\n",
       "      <td>0.0</td>\n",
       "      <td>0.0</td>\n",
       "      <td>0.0</td>\n",
       "      <td>0.0</td>\n",
       "      <td>0.0</td>\n",
       "      <td>0.0</td>\n",
       "      <td>0.0</td>\n",
       "      <td>0.0</td>\n",
       "      <td>...</td>\n",
       "      <td>1.0</td>\n",
       "      <td>0.0</td>\n",
       "      <td>0.0</td>\n",
       "      <td>0.0</td>\n",
       "      <td>0.0</td>\n",
       "      <td>1.0</td>\n",
       "      <td>1.0</td>\n",
       "      <td>0.0</td>\n",
       "      <td>1.0</td>\n",
       "      <td>0.0</td>\n",
       "    </tr>\n",
       "    <tr>\n",
       "      <th>...</th>\n",
       "      <td>...</td>\n",
       "      <td>...</td>\n",
       "      <td>...</td>\n",
       "      <td>...</td>\n",
       "      <td>...</td>\n",
       "      <td>...</td>\n",
       "      <td>...</td>\n",
       "      <td>...</td>\n",
       "      <td>...</td>\n",
       "      <td>...</td>\n",
       "      <td>...</td>\n",
       "      <td>...</td>\n",
       "      <td>...</td>\n",
       "      <td>...</td>\n",
       "      <td>...</td>\n",
       "      <td>...</td>\n",
       "      <td>...</td>\n",
       "      <td>...</td>\n",
       "      <td>...</td>\n",
       "      <td>...</td>\n",
       "      <td>...</td>\n",
       "    </tr>\n",
       "    <tr>\n",
       "      <th>50754</th>\n",
       "      <td>0.0</td>\n",
       "      <td>0.0</td>\n",
       "      <td>0.0</td>\n",
       "      <td>0.0</td>\n",
       "      <td>0.0</td>\n",
       "      <td>0.0</td>\n",
       "      <td>0.0</td>\n",
       "      <td>0.0</td>\n",
       "      <td>0.0</td>\n",
       "      <td>0.0</td>\n",
       "      <td>...</td>\n",
       "      <td>0.0</td>\n",
       "      <td>0.0</td>\n",
       "      <td>0.0</td>\n",
       "      <td>0.0</td>\n",
       "      <td>0.0</td>\n",
       "      <td>1.0</td>\n",
       "      <td>0.0</td>\n",
       "      <td>0.0</td>\n",
       "      <td>1.0</td>\n",
       "      <td>0.0</td>\n",
       "    </tr>\n",
       "    <tr>\n",
       "      <th>50755</th>\n",
       "      <td>1.0</td>\n",
       "      <td>0.0</td>\n",
       "      <td>0.0</td>\n",
       "      <td>0.0</td>\n",
       "      <td>0.0</td>\n",
       "      <td>0.0</td>\n",
       "      <td>0.0</td>\n",
       "      <td>0.0</td>\n",
       "      <td>0.0</td>\n",
       "      <td>0.0</td>\n",
       "      <td>...</td>\n",
       "      <td>0.0</td>\n",
       "      <td>0.0</td>\n",
       "      <td>0.0</td>\n",
       "      <td>0.0</td>\n",
       "      <td>0.0</td>\n",
       "      <td>0.0</td>\n",
       "      <td>0.0</td>\n",
       "      <td>1.0</td>\n",
       "      <td>0.0</td>\n",
       "      <td>0.0</td>\n",
       "    </tr>\n",
       "    <tr>\n",
       "      <th>50756</th>\n",
       "      <td>1.0</td>\n",
       "      <td>0.0</td>\n",
       "      <td>0.0</td>\n",
       "      <td>0.0</td>\n",
       "      <td>0.0</td>\n",
       "      <td>0.0</td>\n",
       "      <td>0.0</td>\n",
       "      <td>0.0</td>\n",
       "      <td>0.0</td>\n",
       "      <td>0.0</td>\n",
       "      <td>...</td>\n",
       "      <td>0.0</td>\n",
       "      <td>0.0</td>\n",
       "      <td>0.0</td>\n",
       "      <td>0.0</td>\n",
       "      <td>0.0</td>\n",
       "      <td>1.0</td>\n",
       "      <td>0.0</td>\n",
       "      <td>1.0</td>\n",
       "      <td>0.0</td>\n",
       "      <td>0.0</td>\n",
       "    </tr>\n",
       "    <tr>\n",
       "      <th>50757</th>\n",
       "      <td>1.0</td>\n",
       "      <td>0.0</td>\n",
       "      <td>0.0</td>\n",
       "      <td>0.0</td>\n",
       "      <td>0.0</td>\n",
       "      <td>0.0</td>\n",
       "      <td>0.0</td>\n",
       "      <td>0.0</td>\n",
       "      <td>0.0</td>\n",
       "      <td>0.0</td>\n",
       "      <td>...</td>\n",
       "      <td>0.0</td>\n",
       "      <td>0.0</td>\n",
       "      <td>0.0</td>\n",
       "      <td>1.0</td>\n",
       "      <td>0.0</td>\n",
       "      <td>0.0</td>\n",
       "      <td>0.0</td>\n",
       "      <td>1.0</td>\n",
       "      <td>0.0</td>\n",
       "      <td>0.0</td>\n",
       "    </tr>\n",
       "    <tr>\n",
       "      <th>50758</th>\n",
       "      <td>1.0</td>\n",
       "      <td>0.0</td>\n",
       "      <td>0.0</td>\n",
       "      <td>0.0</td>\n",
       "      <td>0.0</td>\n",
       "      <td>0.0</td>\n",
       "      <td>0.0</td>\n",
       "      <td>0.0</td>\n",
       "      <td>0.0</td>\n",
       "      <td>0.0</td>\n",
       "      <td>...</td>\n",
       "      <td>0.0</td>\n",
       "      <td>0.0</td>\n",
       "      <td>0.0</td>\n",
       "      <td>0.0</td>\n",
       "      <td>0.0</td>\n",
       "      <td>0.0</td>\n",
       "      <td>0.0</td>\n",
       "      <td>1.0</td>\n",
       "      <td>0.0</td>\n",
       "      <td>0.0</td>\n",
       "    </tr>\n",
       "  </tbody>\n",
       "</table>\n",
       "<p>50759 rows × 24 columns</p>\n",
       "</div>"
      ],
      "text/plain": [
       "       Occupation_Architect  Occupation_Developer  Occupation_Doctor  \\\n",
       "0                       0.0                   0.0                0.0   \n",
       "1                       0.0                   0.0                0.0   \n",
       "2                       0.0                   0.0                0.0   \n",
       "3                       0.0                   0.0                0.0   \n",
       "4                       0.0                   0.0                0.0   \n",
       "...                     ...                   ...                ...   \n",
       "50754                   0.0                   0.0                0.0   \n",
       "50755                   1.0                   0.0                0.0   \n",
       "50756                   1.0                   0.0                0.0   \n",
       "50757                   1.0                   0.0                0.0   \n",
       "50758                   1.0                   0.0                0.0   \n",
       "\n",
       "       Occupation_Engineer  Occupation_Entrepreneur  Occupation_Journalist  \\\n",
       "0                      0.0                      0.0                    0.0   \n",
       "1                      0.0                      0.0                    0.0   \n",
       "2                      0.0                      0.0                    0.0   \n",
       "3                      0.0                      0.0                    0.0   \n",
       "4                      0.0                      0.0                    0.0   \n",
       "...                    ...                      ...                    ...   \n",
       "50754                  0.0                      0.0                    0.0   \n",
       "50755                  0.0                      0.0                    0.0   \n",
       "50756                  0.0                      0.0                    0.0   \n",
       "50757                  0.0                      0.0                    0.0   \n",
       "50758                  0.0                      0.0                    0.0   \n",
       "\n",
       "       Occupation_Lawyer  Occupation_Manager  Occupation_Mechanic  \\\n",
       "0                    0.0                 0.0                  0.0   \n",
       "1                    0.0                 0.0                  0.0   \n",
       "2                    0.0                 0.0                  0.0   \n",
       "3                    0.0                 0.0                  0.0   \n",
       "4                    0.0                 0.0                  0.0   \n",
       "...                  ...                 ...                  ...   \n",
       "50754                0.0                 0.0                  0.0   \n",
       "50755                0.0                 0.0                  0.0   \n",
       "50756                0.0                 0.0                  0.0   \n",
       "50757                0.0                 0.0                  0.0   \n",
       "50758                0.0                 0.0                  0.0   \n",
       "\n",
       "       Occupation_Media_Manager  ...  Occupation_other  \\\n",
       "0                           0.0  ...               0.0   \n",
       "1                           0.0  ...               0.0   \n",
       "2                           0.0  ...               0.0   \n",
       "3                           0.0  ...               0.0   \n",
       "4                           0.0  ...               1.0   \n",
       "...                         ...  ...               ...   \n",
       "50754                       0.0  ...               0.0   \n",
       "50755                       0.0  ...               0.0   \n",
       "50756                       0.0  ...               0.0   \n",
       "50757                       0.0  ...               0.0   \n",
       "50758                       0.0  ...               0.0   \n",
       "\n",
       "       Payment_Behaviour_High_spent_Medium_value_payments  \\\n",
       "0                                                    0.0    \n",
       "1                                                    0.0    \n",
       "2                                                    0.0    \n",
       "3                                                    1.0    \n",
       "4                                                    0.0    \n",
       "...                                                  ...    \n",
       "50754                                                0.0    \n",
       "50755                                                0.0    \n",
       "50756                                                0.0    \n",
       "50757                                                0.0    \n",
       "50758                                                0.0    \n",
       "\n",
       "       Payment_Behaviour_High_spent_Small_value_payments  \\\n",
       "0                                                    0.0   \n",
       "1                                                    0.0   \n",
       "2                                                    0.0   \n",
       "3                                                    0.0   \n",
       "4                                                    0.0   \n",
       "...                                                  ...   \n",
       "50754                                                0.0   \n",
       "50755                                                0.0   \n",
       "50756                                                0.0   \n",
       "50757                                                0.0   \n",
       "50758                                                0.0   \n",
       "\n",
       "       Payment_Behaviour_Low_spent_Large_value_payments  \\\n",
       "0                                                   0.0   \n",
       "1                                                   0.0   \n",
       "2                                                   0.0   \n",
       "3                                                   0.0   \n",
       "4                                                   0.0   \n",
       "...                                                 ...   \n",
       "50754                                               0.0   \n",
       "50755                                               0.0   \n",
       "50756                                               0.0   \n",
       "50757                                               1.0   \n",
       "50758                                               0.0   \n",
       "\n",
       "       Payment_Behaviour_Low_spent_Medium_value_payments  \\\n",
       "0                                                    1.0   \n",
       "1                                                    0.0   \n",
       "2                                                    0.0   \n",
       "3                                                    0.0   \n",
       "4                                                    0.0   \n",
       "...                                                  ...   \n",
       "50754                                                0.0   \n",
       "50755                                                0.0   \n",
       "50756                                                0.0   \n",
       "50757                                                0.0   \n",
       "50758                                                0.0   \n",
       "\n",
       "       Payment_Behaviour_Low_spent_Small_value_payments  \\\n",
       "0                                                   0.0   \n",
       "1                                                   1.0   \n",
       "2                                                   1.0   \n",
       "3                                                   0.0   \n",
       "4                                                   1.0   \n",
       "...                                                 ...   \n",
       "50754                                               1.0   \n",
       "50755                                               0.0   \n",
       "50756                                               1.0   \n",
       "50757                                               0.0   \n",
       "50758                                               0.0   \n",
       "\n",
       "       Payment_of_Min_Amount_No  Payment_of_Min_Amount_Yes  Credit_Mix_Good  \\\n",
       "0                           1.0                        0.0              1.0   \n",
       "1                           1.0                        0.0              1.0   \n",
       "2                           1.0                        0.0              1.0   \n",
       "3                           1.0                        0.0              1.0   \n",
       "4                           1.0                        0.0              1.0   \n",
       "...                         ...                        ...              ...   \n",
       "50754                       0.0                        0.0              1.0   \n",
       "50755                       0.0                        1.0              0.0   \n",
       "50756                       0.0                        1.0              0.0   \n",
       "50757                       0.0                        1.0              0.0   \n",
       "50758                       0.0                        1.0              0.0   \n",
       "\n",
       "       Credit_Mix_Standard  \n",
       "0                      0.0  \n",
       "1                      0.0  \n",
       "2                      0.0  \n",
       "3                      0.0  \n",
       "4                      0.0  \n",
       "...                    ...  \n",
       "50754                  0.0  \n",
       "50755                  0.0  \n",
       "50756                  0.0  \n",
       "50757                  0.0  \n",
       "50758                  0.0  \n",
       "\n",
       "[50759 rows x 24 columns]"
      ]
     },
     "execution_count": 23,
     "metadata": {},
     "output_type": "execute_result"
    }
   ],
   "source": [
    "transformed_df"
   ]
  },
  {
   "cell_type": "code",
   "execution_count": 24,
   "id": "384c25b6",
   "metadata": {},
   "outputs": [],
   "source": [
    "df = pd.concat([df , transformed_df] , axis = 1)"
   ]
  },
  {
   "cell_type": "code",
   "execution_count": 25,
   "id": "b88bb869",
   "metadata": {},
   "outputs": [],
   "source": [
    "df.drop(['Occupation' , 'Payment_Behaviour' , 'Month' , 'Payment_of_Min_Amount' ,'Credit_Mix'], axis = 1 , inplace =True)"
   ]
  },
  {
   "cell_type": "markdown",
   "id": "b3a45f2f",
   "metadata": {},
   "source": [
    "### now we will split the data to x , y to make our pipline and model  \n",
    "### -------------------------------------------------------------------------------------------"
   ]
  },
  {
   "cell_type": "code",
   "execution_count": 26,
   "id": "253428c6",
   "metadata": {},
   "outputs": [],
   "source": [
    "x=df.drop('Credit_Score',axis=1)\n",
    "y=df['Credit_Score']"
   ]
  },
  {
   "cell_type": "markdown",
   "id": "c4dbda37",
   "metadata": {},
   "source": [
    "#### start making firt pipline \n",
    "#### ----------------------------------"
   ]
  },
  {
   "cell_type": "code",
   "execution_count": 93,
   "id": "aa0b744f",
   "metadata": {},
   "outputs": [],
   "source": [
    "steps0 = list()\n",
    "steps0.append((\"selector\" ,SelectFromModel(DecisionTreeClassifier())))\n",
    "steps0.append((\"scaler\" , RobustScaler()))\n",
    "steps0.append((\"model\" , DecisionTreeClassifier()))"
   ]
  },
  {
   "cell_type": "code",
   "execution_count": 94,
   "id": "dbc41e26",
   "metadata": {},
   "outputs": [
    {
     "data": {
      "text/html": [
       "<style>#sk-14cda879-9419-471f-a2a9-30df2535108f {color: black;background-color: white;}#sk-14cda879-9419-471f-a2a9-30df2535108f pre{padding: 0;}#sk-14cda879-9419-471f-a2a9-30df2535108f div.sk-toggleable {background-color: white;}#sk-14cda879-9419-471f-a2a9-30df2535108f label.sk-toggleable__label {cursor: pointer;display: block;width: 100%;margin-bottom: 0;padding: 0.3em;box-sizing: border-box;text-align: center;}#sk-14cda879-9419-471f-a2a9-30df2535108f label.sk-toggleable__label-arrow:before {content: \"▸\";float: left;margin-right: 0.25em;color: #696969;}#sk-14cda879-9419-471f-a2a9-30df2535108f label.sk-toggleable__label-arrow:hover:before {color: black;}#sk-14cda879-9419-471f-a2a9-30df2535108f div.sk-estimator:hover label.sk-toggleable__label-arrow:before {color: black;}#sk-14cda879-9419-471f-a2a9-30df2535108f div.sk-toggleable__content {max-height: 0;max-width: 0;overflow: hidden;text-align: left;background-color: #f0f8ff;}#sk-14cda879-9419-471f-a2a9-30df2535108f div.sk-toggleable__content pre {margin: 0.2em;color: black;border-radius: 0.25em;background-color: #f0f8ff;}#sk-14cda879-9419-471f-a2a9-30df2535108f input.sk-toggleable__control:checked~div.sk-toggleable__content {max-height: 200px;max-width: 100%;overflow: auto;}#sk-14cda879-9419-471f-a2a9-30df2535108f input.sk-toggleable__control:checked~label.sk-toggleable__label-arrow:before {content: \"▾\";}#sk-14cda879-9419-471f-a2a9-30df2535108f div.sk-estimator input.sk-toggleable__control:checked~label.sk-toggleable__label {background-color: #d4ebff;}#sk-14cda879-9419-471f-a2a9-30df2535108f div.sk-label input.sk-toggleable__control:checked~label.sk-toggleable__label {background-color: #d4ebff;}#sk-14cda879-9419-471f-a2a9-30df2535108f input.sk-hidden--visually {border: 0;clip: rect(1px 1px 1px 1px);clip: rect(1px, 1px, 1px, 1px);height: 1px;margin: -1px;overflow: hidden;padding: 0;position: absolute;width: 1px;}#sk-14cda879-9419-471f-a2a9-30df2535108f div.sk-estimator {font-family: monospace;background-color: #f0f8ff;border: 1px dotted black;border-radius: 0.25em;box-sizing: border-box;margin-bottom: 0.5em;}#sk-14cda879-9419-471f-a2a9-30df2535108f div.sk-estimator:hover {background-color: #d4ebff;}#sk-14cda879-9419-471f-a2a9-30df2535108f div.sk-parallel-item::after {content: \"\";width: 100%;border-bottom: 1px solid gray;flex-grow: 1;}#sk-14cda879-9419-471f-a2a9-30df2535108f div.sk-label:hover label.sk-toggleable__label {background-color: #d4ebff;}#sk-14cda879-9419-471f-a2a9-30df2535108f div.sk-serial::before {content: \"\";position: absolute;border-left: 1px solid gray;box-sizing: border-box;top: 2em;bottom: 0;left: 50%;}#sk-14cda879-9419-471f-a2a9-30df2535108f div.sk-serial {display: flex;flex-direction: column;align-items: center;background-color: white;padding-right: 0.2em;padding-left: 0.2em;}#sk-14cda879-9419-471f-a2a9-30df2535108f div.sk-item {z-index: 1;}#sk-14cda879-9419-471f-a2a9-30df2535108f div.sk-parallel {display: flex;align-items: stretch;justify-content: center;background-color: white;}#sk-14cda879-9419-471f-a2a9-30df2535108f div.sk-parallel::before {content: \"\";position: absolute;border-left: 1px solid gray;box-sizing: border-box;top: 2em;bottom: 0;left: 50%;}#sk-14cda879-9419-471f-a2a9-30df2535108f div.sk-parallel-item {display: flex;flex-direction: column;position: relative;background-color: white;}#sk-14cda879-9419-471f-a2a9-30df2535108f div.sk-parallel-item:first-child::after {align-self: flex-end;width: 50%;}#sk-14cda879-9419-471f-a2a9-30df2535108f div.sk-parallel-item:last-child::after {align-self: flex-start;width: 50%;}#sk-14cda879-9419-471f-a2a9-30df2535108f div.sk-parallel-item:only-child::after {width: 0;}#sk-14cda879-9419-471f-a2a9-30df2535108f div.sk-dashed-wrapped {border: 1px dashed gray;margin: 0 0.4em 0.5em 0.4em;box-sizing: border-box;padding-bottom: 0.4em;background-color: white;position: relative;}#sk-14cda879-9419-471f-a2a9-30df2535108f div.sk-label label {font-family: monospace;font-weight: bold;background-color: white;display: inline-block;line-height: 1.2em;}#sk-14cda879-9419-471f-a2a9-30df2535108f div.sk-label-container {position: relative;z-index: 2;text-align: center;}#sk-14cda879-9419-471f-a2a9-30df2535108f div.sk-container {/* jupyter's `normalize.less` sets `[hidden] { display: none; }` but bootstrap.min.css set `[hidden] { display: none !important; }` so we also need the `!important` here to be able to override the default hidden behavior on the sphinx rendered scikit-learn.org. See: https://github.com/scikit-learn/scikit-learn/issues/21755 */display: inline-block !important;position: relative;}#sk-14cda879-9419-471f-a2a9-30df2535108f div.sk-text-repr-fallback {display: none;}</style><div id=\"sk-14cda879-9419-471f-a2a9-30df2535108f\" class=\"sk-top-container\"><div class=\"sk-text-repr-fallback\"><pre>Pipeline(steps=[(&#x27;selector&#x27;,\n",
       "                 SelectFromModel(estimator=DecisionTreeClassifier())),\n",
       "                (&#x27;scaler&#x27;, RobustScaler()),\n",
       "                (&#x27;model&#x27;, DecisionTreeClassifier())])</pre><b>Please rerun this cell to show the HTML repr or trust the notebook.</b></div><div class=\"sk-container\" hidden><div class=\"sk-item sk-dashed-wrapped\"><div class=\"sk-label-container\"><div class=\"sk-label sk-toggleable\"><input class=\"sk-toggleable__control sk-hidden--visually\" id=\"ba6a252d-362a-4a20-8f93-98d669ce63dc\" type=\"checkbox\" ><label for=\"ba6a252d-362a-4a20-8f93-98d669ce63dc\" class=\"sk-toggleable__label sk-toggleable__label-arrow\">Pipeline</label><div class=\"sk-toggleable__content\"><pre>Pipeline(steps=[(&#x27;selector&#x27;,\n",
       "                 SelectFromModel(estimator=DecisionTreeClassifier())),\n",
       "                (&#x27;scaler&#x27;, RobustScaler()),\n",
       "                (&#x27;model&#x27;, DecisionTreeClassifier())])</pre></div></div></div><div class=\"sk-serial\"><div class=\"sk-item sk-dashed-wrapped\"><div class=\"sk-label-container\"><div class=\"sk-label sk-toggleable\"><input class=\"sk-toggleable__control sk-hidden--visually\" id=\"da2ef28a-3305-4b90-bb82-ea8a5f93aae3\" type=\"checkbox\" ><label for=\"da2ef28a-3305-4b90-bb82-ea8a5f93aae3\" class=\"sk-toggleable__label sk-toggleable__label-arrow\">selector: SelectFromModel</label><div class=\"sk-toggleable__content\"><pre>SelectFromModel(estimator=DecisionTreeClassifier())</pre></div></div></div><div class=\"sk-parallel\"><div class=\"sk-parallel-item\"><div class=\"sk-item\"><div class=\"sk-serial\"><div class=\"sk-item\"><div class=\"sk-estimator sk-toggleable\"><input class=\"sk-toggleable__control sk-hidden--visually\" id=\"0c21a3cb-1434-49a6-99b9-1a017946fdff\" type=\"checkbox\" ><label for=\"0c21a3cb-1434-49a6-99b9-1a017946fdff\" class=\"sk-toggleable__label sk-toggleable__label-arrow\">DecisionTreeClassifier</label><div class=\"sk-toggleable__content\"><pre>DecisionTreeClassifier()</pre></div></div></div></div></div></div></div></div><div class=\"sk-item\"><div class=\"sk-estimator sk-toggleable\"><input class=\"sk-toggleable__control sk-hidden--visually\" id=\"1cc1f1a1-f967-46f6-b173-f47e76d43c3d\" type=\"checkbox\" ><label for=\"1cc1f1a1-f967-46f6-b173-f47e76d43c3d\" class=\"sk-toggleable__label sk-toggleable__label-arrow\">RobustScaler</label><div class=\"sk-toggleable__content\"><pre>RobustScaler()</pre></div></div></div><div class=\"sk-item\"><div class=\"sk-estimator sk-toggleable\"><input class=\"sk-toggleable__control sk-hidden--visually\" id=\"e593c8d4-704c-41ca-8474-27059cc9605f\" type=\"checkbox\" ><label for=\"e593c8d4-704c-41ca-8474-27059cc9605f\" class=\"sk-toggleable__label sk-toggleable__label-arrow\">DecisionTreeClassifier</label><div class=\"sk-toggleable__content\"><pre>DecisionTreeClassifier()</pre></div></div></div></div></div></div></div>"
      ],
      "text/plain": [
       "Pipeline(steps=[('selector',\n",
       "                 SelectFromModel(estimator=DecisionTreeClassifier())),\n",
       "                ('scaler', RobustScaler()),\n",
       "                ('model', DecisionTreeClassifier())])"
      ]
     },
     "execution_count": 94,
     "metadata": {},
     "output_type": "execute_result"
    }
   ],
   "source": [
    "from sklearn import set_config\n",
    "set_config(display=\"diagram\")\n",
    "big_one = Pipeline(steps=steps0)\n",
    "big_one"
   ]
  },
  {
   "cell_type": "markdown",
   "id": "b2affc46",
   "metadata": {},
   "source": [
    "### cross valdiation for test the model \n",
    "### -------------------------------------------------"
   ]
  },
  {
   "cell_type": "code",
   "execution_count": 95,
   "id": "4a5a6d68",
   "metadata": {},
   "outputs": [
    {
     "name": "stdout",
     "output_type": "stream",
     "text": [
      "CPU times: total: 62.5 ms\n",
      "Wall time: 5.07 s\n"
     ]
    }
   ],
   "source": [
    "%%time\n",
    "scores = cross_validate(big_one , x , y , cv = 5 , scoring=\"accuracy\" , return_train_score=True , n_jobs=-1)"
   ]
  },
  {
   "cell_type": "markdown",
   "id": "d2397ff1",
   "metadata": {},
   "source": [
    "\n",
    "#### Evaluating Model Performance"
   ]
  },
  {
   "cell_type": "code",
   "execution_count": 96,
   "id": "96ffeb6c",
   "metadata": {},
   "outputs": [
    {
     "data": {
      "text/plain": [
       "1.0"
      ]
     },
     "execution_count": 96,
     "metadata": {},
     "output_type": "execute_result"
    }
   ],
   "source": [
    "scores['train_score'].mean()"
   ]
  },
  {
   "cell_type": "code",
   "execution_count": 97,
   "id": "b7d90532",
   "metadata": {},
   "outputs": [
    {
     "data": {
      "text/plain": [
       "0.5969384283140187"
      ]
     },
     "execution_count": 97,
     "metadata": {},
     "output_type": "execute_result"
    }
   ],
   "source": [
    "scores['test_score'].mean()"
   ]
  },
  {
   "cell_type": "markdown",
   "id": "ef602b58",
   "metadata": {},
   "source": [
    "#### fit (x,y) to get  Feature Importance"
   ]
  },
  {
   "cell_type": "code",
   "execution_count": 98,
   "id": "b72e5356",
   "metadata": {},
   "outputs": [
    {
     "data": {
      "text/html": [
       "<style>#sk-82a70dee-2631-4f55-8853-44cef5f3bbf9 {color: black;background-color: white;}#sk-82a70dee-2631-4f55-8853-44cef5f3bbf9 pre{padding: 0;}#sk-82a70dee-2631-4f55-8853-44cef5f3bbf9 div.sk-toggleable {background-color: white;}#sk-82a70dee-2631-4f55-8853-44cef5f3bbf9 label.sk-toggleable__label {cursor: pointer;display: block;width: 100%;margin-bottom: 0;padding: 0.3em;box-sizing: border-box;text-align: center;}#sk-82a70dee-2631-4f55-8853-44cef5f3bbf9 label.sk-toggleable__label-arrow:before {content: \"▸\";float: left;margin-right: 0.25em;color: #696969;}#sk-82a70dee-2631-4f55-8853-44cef5f3bbf9 label.sk-toggleable__label-arrow:hover:before {color: black;}#sk-82a70dee-2631-4f55-8853-44cef5f3bbf9 div.sk-estimator:hover label.sk-toggleable__label-arrow:before {color: black;}#sk-82a70dee-2631-4f55-8853-44cef5f3bbf9 div.sk-toggleable__content {max-height: 0;max-width: 0;overflow: hidden;text-align: left;background-color: #f0f8ff;}#sk-82a70dee-2631-4f55-8853-44cef5f3bbf9 div.sk-toggleable__content pre {margin: 0.2em;color: black;border-radius: 0.25em;background-color: #f0f8ff;}#sk-82a70dee-2631-4f55-8853-44cef5f3bbf9 input.sk-toggleable__control:checked~div.sk-toggleable__content {max-height: 200px;max-width: 100%;overflow: auto;}#sk-82a70dee-2631-4f55-8853-44cef5f3bbf9 input.sk-toggleable__control:checked~label.sk-toggleable__label-arrow:before {content: \"▾\";}#sk-82a70dee-2631-4f55-8853-44cef5f3bbf9 div.sk-estimator input.sk-toggleable__control:checked~label.sk-toggleable__label {background-color: #d4ebff;}#sk-82a70dee-2631-4f55-8853-44cef5f3bbf9 div.sk-label input.sk-toggleable__control:checked~label.sk-toggleable__label {background-color: #d4ebff;}#sk-82a70dee-2631-4f55-8853-44cef5f3bbf9 input.sk-hidden--visually {border: 0;clip: rect(1px 1px 1px 1px);clip: rect(1px, 1px, 1px, 1px);height: 1px;margin: -1px;overflow: hidden;padding: 0;position: absolute;width: 1px;}#sk-82a70dee-2631-4f55-8853-44cef5f3bbf9 div.sk-estimator {font-family: monospace;background-color: #f0f8ff;border: 1px dotted black;border-radius: 0.25em;box-sizing: border-box;margin-bottom: 0.5em;}#sk-82a70dee-2631-4f55-8853-44cef5f3bbf9 div.sk-estimator:hover {background-color: #d4ebff;}#sk-82a70dee-2631-4f55-8853-44cef5f3bbf9 div.sk-parallel-item::after {content: \"\";width: 100%;border-bottom: 1px solid gray;flex-grow: 1;}#sk-82a70dee-2631-4f55-8853-44cef5f3bbf9 div.sk-label:hover label.sk-toggleable__label {background-color: #d4ebff;}#sk-82a70dee-2631-4f55-8853-44cef5f3bbf9 div.sk-serial::before {content: \"\";position: absolute;border-left: 1px solid gray;box-sizing: border-box;top: 2em;bottom: 0;left: 50%;}#sk-82a70dee-2631-4f55-8853-44cef5f3bbf9 div.sk-serial {display: flex;flex-direction: column;align-items: center;background-color: white;padding-right: 0.2em;padding-left: 0.2em;}#sk-82a70dee-2631-4f55-8853-44cef5f3bbf9 div.sk-item {z-index: 1;}#sk-82a70dee-2631-4f55-8853-44cef5f3bbf9 div.sk-parallel {display: flex;align-items: stretch;justify-content: center;background-color: white;}#sk-82a70dee-2631-4f55-8853-44cef5f3bbf9 div.sk-parallel::before {content: \"\";position: absolute;border-left: 1px solid gray;box-sizing: border-box;top: 2em;bottom: 0;left: 50%;}#sk-82a70dee-2631-4f55-8853-44cef5f3bbf9 div.sk-parallel-item {display: flex;flex-direction: column;position: relative;background-color: white;}#sk-82a70dee-2631-4f55-8853-44cef5f3bbf9 div.sk-parallel-item:first-child::after {align-self: flex-end;width: 50%;}#sk-82a70dee-2631-4f55-8853-44cef5f3bbf9 div.sk-parallel-item:last-child::after {align-self: flex-start;width: 50%;}#sk-82a70dee-2631-4f55-8853-44cef5f3bbf9 div.sk-parallel-item:only-child::after {width: 0;}#sk-82a70dee-2631-4f55-8853-44cef5f3bbf9 div.sk-dashed-wrapped {border: 1px dashed gray;margin: 0 0.4em 0.5em 0.4em;box-sizing: border-box;padding-bottom: 0.4em;background-color: white;position: relative;}#sk-82a70dee-2631-4f55-8853-44cef5f3bbf9 div.sk-label label {font-family: monospace;font-weight: bold;background-color: white;display: inline-block;line-height: 1.2em;}#sk-82a70dee-2631-4f55-8853-44cef5f3bbf9 div.sk-label-container {position: relative;z-index: 2;text-align: center;}#sk-82a70dee-2631-4f55-8853-44cef5f3bbf9 div.sk-container {/* jupyter's `normalize.less` sets `[hidden] { display: none; }` but bootstrap.min.css set `[hidden] { display: none !important; }` so we also need the `!important` here to be able to override the default hidden behavior on the sphinx rendered scikit-learn.org. See: https://github.com/scikit-learn/scikit-learn/issues/21755 */display: inline-block !important;position: relative;}#sk-82a70dee-2631-4f55-8853-44cef5f3bbf9 div.sk-text-repr-fallback {display: none;}</style><div id=\"sk-82a70dee-2631-4f55-8853-44cef5f3bbf9\" class=\"sk-top-container\"><div class=\"sk-text-repr-fallback\"><pre>Pipeline(steps=[(&#x27;selector&#x27;,\n",
       "                 SelectFromModel(estimator=DecisionTreeClassifier())),\n",
       "                (&#x27;scaler&#x27;, RobustScaler()),\n",
       "                (&#x27;model&#x27;, DecisionTreeClassifier())])</pre><b>Please rerun this cell to show the HTML repr or trust the notebook.</b></div><div class=\"sk-container\" hidden><div class=\"sk-item sk-dashed-wrapped\"><div class=\"sk-label-container\"><div class=\"sk-label sk-toggleable\"><input class=\"sk-toggleable__control sk-hidden--visually\" id=\"2f67f5c5-d666-40db-9ecb-c1978c5c490a\" type=\"checkbox\" ><label for=\"2f67f5c5-d666-40db-9ecb-c1978c5c490a\" class=\"sk-toggleable__label sk-toggleable__label-arrow\">Pipeline</label><div class=\"sk-toggleable__content\"><pre>Pipeline(steps=[(&#x27;selector&#x27;,\n",
       "                 SelectFromModel(estimator=DecisionTreeClassifier())),\n",
       "                (&#x27;scaler&#x27;, RobustScaler()),\n",
       "                (&#x27;model&#x27;, DecisionTreeClassifier())])</pre></div></div></div><div class=\"sk-serial\"><div class=\"sk-item sk-dashed-wrapped\"><div class=\"sk-label-container\"><div class=\"sk-label sk-toggleable\"><input class=\"sk-toggleable__control sk-hidden--visually\" id=\"351dc628-a845-4a9d-8a7e-0dcc5b4f6d1a\" type=\"checkbox\" ><label for=\"351dc628-a845-4a9d-8a7e-0dcc5b4f6d1a\" class=\"sk-toggleable__label sk-toggleable__label-arrow\">selector: SelectFromModel</label><div class=\"sk-toggleable__content\"><pre>SelectFromModel(estimator=DecisionTreeClassifier())</pre></div></div></div><div class=\"sk-parallel\"><div class=\"sk-parallel-item\"><div class=\"sk-item\"><div class=\"sk-serial\"><div class=\"sk-item\"><div class=\"sk-estimator sk-toggleable\"><input class=\"sk-toggleable__control sk-hidden--visually\" id=\"c862e5ae-1b4d-4980-8ed2-70cad970e5f9\" type=\"checkbox\" ><label for=\"c862e5ae-1b4d-4980-8ed2-70cad970e5f9\" class=\"sk-toggleable__label sk-toggleable__label-arrow\">DecisionTreeClassifier</label><div class=\"sk-toggleable__content\"><pre>DecisionTreeClassifier()</pre></div></div></div></div></div></div></div></div><div class=\"sk-item\"><div class=\"sk-estimator sk-toggleable\"><input class=\"sk-toggleable__control sk-hidden--visually\" id=\"79296ba0-2543-4603-81e7-c23c78b5541b\" type=\"checkbox\" ><label for=\"79296ba0-2543-4603-81e7-c23c78b5541b\" class=\"sk-toggleable__label sk-toggleable__label-arrow\">RobustScaler</label><div class=\"sk-toggleable__content\"><pre>RobustScaler()</pre></div></div></div><div class=\"sk-item\"><div class=\"sk-estimator sk-toggleable\"><input class=\"sk-toggleable__control sk-hidden--visually\" id=\"9ce494dd-98d5-44f2-abfe-db77041437af\" type=\"checkbox\" ><label for=\"9ce494dd-98d5-44f2-abfe-db77041437af\" class=\"sk-toggleable__label sk-toggleable__label-arrow\">DecisionTreeClassifier</label><div class=\"sk-toggleable__content\"><pre>DecisionTreeClassifier()</pre></div></div></div></div></div></div></div>"
      ],
      "text/plain": [
       "Pipeline(steps=[('selector',\n",
       "                 SelectFromModel(estimator=DecisionTreeClassifier())),\n",
       "                ('scaler', RobustScaler()),\n",
       "                ('model', DecisionTreeClassifier())])"
      ]
     },
     "execution_count": 98,
     "metadata": {},
     "output_type": "execute_result"
    }
   ],
   "source": [
    "big_one.fit(x,y)"
   ]
  },
  {
   "cell_type": "code",
   "execution_count": 99,
   "id": "4975b849",
   "metadata": {},
   "outputs": [
    {
     "data": {
      "text/plain": [
       "array([0.04617715, 0.04123156, 0.0421106 , 0.06356678, 0.06637009,\n",
       "       0.04514305, 0.06679501, 0.02899165, 0.19021494, 0.07125448,\n",
       "       0.05848955, 0.06378439, 0.06515418, 0.04022651, 0.11049005])"
      ]
     },
     "execution_count": 99,
     "metadata": {},
     "output_type": "execute_result"
    }
   ],
   "source": [
    "big_one['model'].feature_importances_"
   ]
  },
  {
   "cell_type": "markdown",
   "id": "33855e8f",
   "metadata": {},
   "source": [
    "### Model Tuning by RandomizedSearchCV \n",
    "### ---------------------------------------------------------"
   ]
  },
  {
   "cell_type": "code",
   "execution_count": 119,
   "id": "36bbdc96",
   "metadata": {},
   "outputs": [],
   "source": [
    "param = [     {'model__criterion' : ['gini','entropy'],  \n",
    "                   'model__splitter' : ['best' , 'random'],  \n",
    "                   'model__max_depth' : range(10,40),    \n",
    "                   'model__min_samples_leaf' : range(1,10),     \n",
    "                   'model__min_samples_split': [2, 5, 10],  \n",
    "                   'model__max_features' : ['auto','log2','sqrt',None],   \n",
    "                   'model__max_leaf_nodes' : range(10,40)  }]"
   ]
  },
  {
   "cell_type": "code",
   "execution_count": 120,
   "id": "d05eb959",
   "metadata": {},
   "outputs": [],
   "source": [
    "search = RandomizedSearchCV(estimator=big_one, param_distributions=param, random_state=42, n_iter=20, cv=3, verbose=1, return_train_score=True )"
   ]
  },
  {
   "cell_type": "markdown",
   "id": "21385ef2",
   "metadata": {},
   "source": [
    "#### fit (X,y) by RandomizedSearchCV "
   ]
  },
  {
   "cell_type": "code",
   "execution_count": 121,
   "id": "d5e05c6e",
   "metadata": {},
   "outputs": [
    {
     "name": "stdout",
     "output_type": "stream",
     "text": [
      "Fitting 3 folds for each of 20 candidates, totalling 60 fits\n",
      "CPU times: total: 50.6 s\n",
      "Wall time: 50.7 s\n"
     ]
    },
    {
     "data": {
      "text/html": [
       "<style>#sk-a9dc6fe6-95dc-4654-a02a-faa683e786be {color: black;background-color: white;}#sk-a9dc6fe6-95dc-4654-a02a-faa683e786be pre{padding: 0;}#sk-a9dc6fe6-95dc-4654-a02a-faa683e786be div.sk-toggleable {background-color: white;}#sk-a9dc6fe6-95dc-4654-a02a-faa683e786be label.sk-toggleable__label {cursor: pointer;display: block;width: 100%;margin-bottom: 0;padding: 0.3em;box-sizing: border-box;text-align: center;}#sk-a9dc6fe6-95dc-4654-a02a-faa683e786be label.sk-toggleable__label-arrow:before {content: \"▸\";float: left;margin-right: 0.25em;color: #696969;}#sk-a9dc6fe6-95dc-4654-a02a-faa683e786be label.sk-toggleable__label-arrow:hover:before {color: black;}#sk-a9dc6fe6-95dc-4654-a02a-faa683e786be div.sk-estimator:hover label.sk-toggleable__label-arrow:before {color: black;}#sk-a9dc6fe6-95dc-4654-a02a-faa683e786be div.sk-toggleable__content {max-height: 0;max-width: 0;overflow: hidden;text-align: left;background-color: #f0f8ff;}#sk-a9dc6fe6-95dc-4654-a02a-faa683e786be div.sk-toggleable__content pre {margin: 0.2em;color: black;border-radius: 0.25em;background-color: #f0f8ff;}#sk-a9dc6fe6-95dc-4654-a02a-faa683e786be input.sk-toggleable__control:checked~div.sk-toggleable__content {max-height: 200px;max-width: 100%;overflow: auto;}#sk-a9dc6fe6-95dc-4654-a02a-faa683e786be input.sk-toggleable__control:checked~label.sk-toggleable__label-arrow:before {content: \"▾\";}#sk-a9dc6fe6-95dc-4654-a02a-faa683e786be div.sk-estimator input.sk-toggleable__control:checked~label.sk-toggleable__label {background-color: #d4ebff;}#sk-a9dc6fe6-95dc-4654-a02a-faa683e786be div.sk-label input.sk-toggleable__control:checked~label.sk-toggleable__label {background-color: #d4ebff;}#sk-a9dc6fe6-95dc-4654-a02a-faa683e786be input.sk-hidden--visually {border: 0;clip: rect(1px 1px 1px 1px);clip: rect(1px, 1px, 1px, 1px);height: 1px;margin: -1px;overflow: hidden;padding: 0;position: absolute;width: 1px;}#sk-a9dc6fe6-95dc-4654-a02a-faa683e786be div.sk-estimator {font-family: monospace;background-color: #f0f8ff;border: 1px dotted black;border-radius: 0.25em;box-sizing: border-box;margin-bottom: 0.5em;}#sk-a9dc6fe6-95dc-4654-a02a-faa683e786be div.sk-estimator:hover {background-color: #d4ebff;}#sk-a9dc6fe6-95dc-4654-a02a-faa683e786be div.sk-parallel-item::after {content: \"\";width: 100%;border-bottom: 1px solid gray;flex-grow: 1;}#sk-a9dc6fe6-95dc-4654-a02a-faa683e786be div.sk-label:hover label.sk-toggleable__label {background-color: #d4ebff;}#sk-a9dc6fe6-95dc-4654-a02a-faa683e786be div.sk-serial::before {content: \"\";position: absolute;border-left: 1px solid gray;box-sizing: border-box;top: 2em;bottom: 0;left: 50%;}#sk-a9dc6fe6-95dc-4654-a02a-faa683e786be div.sk-serial {display: flex;flex-direction: column;align-items: center;background-color: white;padding-right: 0.2em;padding-left: 0.2em;}#sk-a9dc6fe6-95dc-4654-a02a-faa683e786be div.sk-item {z-index: 1;}#sk-a9dc6fe6-95dc-4654-a02a-faa683e786be div.sk-parallel {display: flex;align-items: stretch;justify-content: center;background-color: white;}#sk-a9dc6fe6-95dc-4654-a02a-faa683e786be div.sk-parallel::before {content: \"\";position: absolute;border-left: 1px solid gray;box-sizing: border-box;top: 2em;bottom: 0;left: 50%;}#sk-a9dc6fe6-95dc-4654-a02a-faa683e786be div.sk-parallel-item {display: flex;flex-direction: column;position: relative;background-color: white;}#sk-a9dc6fe6-95dc-4654-a02a-faa683e786be div.sk-parallel-item:first-child::after {align-self: flex-end;width: 50%;}#sk-a9dc6fe6-95dc-4654-a02a-faa683e786be div.sk-parallel-item:last-child::after {align-self: flex-start;width: 50%;}#sk-a9dc6fe6-95dc-4654-a02a-faa683e786be div.sk-parallel-item:only-child::after {width: 0;}#sk-a9dc6fe6-95dc-4654-a02a-faa683e786be div.sk-dashed-wrapped {border: 1px dashed gray;margin: 0 0.4em 0.5em 0.4em;box-sizing: border-box;padding-bottom: 0.4em;background-color: white;position: relative;}#sk-a9dc6fe6-95dc-4654-a02a-faa683e786be div.sk-label label {font-family: monospace;font-weight: bold;background-color: white;display: inline-block;line-height: 1.2em;}#sk-a9dc6fe6-95dc-4654-a02a-faa683e786be div.sk-label-container {position: relative;z-index: 2;text-align: center;}#sk-a9dc6fe6-95dc-4654-a02a-faa683e786be div.sk-container {/* jupyter's `normalize.less` sets `[hidden] { display: none; }` but bootstrap.min.css set `[hidden] { display: none !important; }` so we also need the `!important` here to be able to override the default hidden behavior on the sphinx rendered scikit-learn.org. See: https://github.com/scikit-learn/scikit-learn/issues/21755 */display: inline-block !important;position: relative;}#sk-a9dc6fe6-95dc-4654-a02a-faa683e786be div.sk-text-repr-fallback {display: none;}</style><div id=\"sk-a9dc6fe6-95dc-4654-a02a-faa683e786be\" class=\"sk-top-container\"><div class=\"sk-text-repr-fallback\"><pre>RandomizedSearchCV(cv=3,\n",
       "                   estimator=Pipeline(steps=[(&#x27;selector&#x27;,\n",
       "                                              SelectFromModel(estimator=DecisionTreeClassifier())),\n",
       "                                             (&#x27;scaler&#x27;, RobustScaler()),\n",
       "                                             (&#x27;model&#x27;,\n",
       "                                              DecisionTreeClassifier())]),\n",
       "                   n_iter=20,\n",
       "                   param_distributions=[{&#x27;model__criterion&#x27;: [&#x27;gini&#x27;,\n",
       "                                                              &#x27;entropy&#x27;],\n",
       "                                         &#x27;model__max_depth&#x27;: range(10, 40),\n",
       "                                         &#x27;model__max_features&#x27;: [&#x27;auto&#x27;, &#x27;log2&#x27;,\n",
       "                                                                 &#x27;sqrt&#x27;, None],\n",
       "                                         &#x27;model__max_leaf_nodes&#x27;: range(10, 40),\n",
       "                                         &#x27;model__min_samples_leaf&#x27;: range(1, 10),\n",
       "                                         &#x27;model__min_samples_split&#x27;: [2, 5, 10],\n",
       "                                         &#x27;model__splitter&#x27;: [&#x27;best&#x27;,\n",
       "                                                             &#x27;random&#x27;]}],\n",
       "                   random_state=42, return_train_score=True, verbose=1)</pre><b>Please rerun this cell to show the HTML repr or trust the notebook.</b></div><div class=\"sk-container\" hidden><div class=\"sk-item sk-dashed-wrapped\"><div class=\"sk-label-container\"><div class=\"sk-label sk-toggleable\"><input class=\"sk-toggleable__control sk-hidden--visually\" id=\"82a46a60-1a35-44af-b27e-18edd8973094\" type=\"checkbox\" ><label for=\"82a46a60-1a35-44af-b27e-18edd8973094\" class=\"sk-toggleable__label sk-toggleable__label-arrow\">RandomizedSearchCV</label><div class=\"sk-toggleable__content\"><pre>RandomizedSearchCV(cv=3,\n",
       "                   estimator=Pipeline(steps=[(&#x27;selector&#x27;,\n",
       "                                              SelectFromModel(estimator=DecisionTreeClassifier())),\n",
       "                                             (&#x27;scaler&#x27;, RobustScaler()),\n",
       "                                             (&#x27;model&#x27;,\n",
       "                                              DecisionTreeClassifier())]),\n",
       "                   n_iter=20,\n",
       "                   param_distributions=[{&#x27;model__criterion&#x27;: [&#x27;gini&#x27;,\n",
       "                                                              &#x27;entropy&#x27;],\n",
       "                                         &#x27;model__max_depth&#x27;: range(10, 40),\n",
       "                                         &#x27;model__max_features&#x27;: [&#x27;auto&#x27;, &#x27;log2&#x27;,\n",
       "                                                                 &#x27;sqrt&#x27;, None],\n",
       "                                         &#x27;model__max_leaf_nodes&#x27;: range(10, 40),\n",
       "                                         &#x27;model__min_samples_leaf&#x27;: range(1, 10),\n",
       "                                         &#x27;model__min_samples_split&#x27;: [2, 5, 10],\n",
       "                                         &#x27;model__splitter&#x27;: [&#x27;best&#x27;,\n",
       "                                                             &#x27;random&#x27;]}],\n",
       "                   random_state=42, return_train_score=True, verbose=1)</pre></div></div></div><div class=\"sk-parallel\"><div class=\"sk-parallel-item\"><div class=\"sk-item\"><div class=\"sk-serial\"><div class=\"sk-item\"><div class=\"sk-serial\"><div class=\"sk-item sk-dashed-wrapped\"><div class=\"sk-label-container\"><div class=\"sk-label sk-toggleable\"><input class=\"sk-toggleable__control sk-hidden--visually\" id=\"380ecd1c-9081-489b-abae-056a08a43c3d\" type=\"checkbox\" ><label for=\"380ecd1c-9081-489b-abae-056a08a43c3d\" class=\"sk-toggleable__label sk-toggleable__label-arrow\">selector: SelectFromModel</label><div class=\"sk-toggleable__content\"><pre>SelectFromModel(estimator=DecisionTreeClassifier())</pre></div></div></div><div class=\"sk-parallel\"><div class=\"sk-parallel-item\"><div class=\"sk-item\"><div class=\"sk-serial\"><div class=\"sk-item\"><div class=\"sk-estimator sk-toggleable\"><input class=\"sk-toggleable__control sk-hidden--visually\" id=\"62f3c071-871f-4125-89f7-9ac94a0f17b9\" type=\"checkbox\" ><label for=\"62f3c071-871f-4125-89f7-9ac94a0f17b9\" class=\"sk-toggleable__label sk-toggleable__label-arrow\">DecisionTreeClassifier</label><div class=\"sk-toggleable__content\"><pre>DecisionTreeClassifier()</pre></div></div></div></div></div></div></div></div><div class=\"sk-item\"><div class=\"sk-estimator sk-toggleable\"><input class=\"sk-toggleable__control sk-hidden--visually\" id=\"4f1527b0-0aff-44db-9fb9-c908a161b5df\" type=\"checkbox\" ><label for=\"4f1527b0-0aff-44db-9fb9-c908a161b5df\" class=\"sk-toggleable__label sk-toggleable__label-arrow\">RobustScaler</label><div class=\"sk-toggleable__content\"><pre>RobustScaler()</pre></div></div></div><div class=\"sk-item\"><div class=\"sk-estimator sk-toggleable\"><input class=\"sk-toggleable__control sk-hidden--visually\" id=\"43eb1c3b-d396-457b-ad15-13dab0bd5286\" type=\"checkbox\" ><label for=\"43eb1c3b-d396-457b-ad15-13dab0bd5286\" class=\"sk-toggleable__label sk-toggleable__label-arrow\">DecisionTreeClassifier</label><div class=\"sk-toggleable__content\"><pre>DecisionTreeClassifier()</pre></div></div></div></div></div></div></div></div></div></div></div></div>"
      ],
      "text/plain": [
       "RandomizedSearchCV(cv=3,\n",
       "                   estimator=Pipeline(steps=[('selector',\n",
       "                                              SelectFromModel(estimator=DecisionTreeClassifier())),\n",
       "                                             ('scaler', RobustScaler()),\n",
       "                                             ('model',\n",
       "                                              DecisionTreeClassifier())]),\n",
       "                   n_iter=20,\n",
       "                   param_distributions=[{'model__criterion': ['gini',\n",
       "                                                              'entropy'],\n",
       "                                         'model__max_depth': range(10, 40),\n",
       "                                         'model__max_features': ['auto', 'log2',\n",
       "                                                                 'sqrt', None],\n",
       "                                         'model__max_leaf_nodes': range(10, 40),\n",
       "                                         'model__min_samples_leaf': range(1, 10),\n",
       "                                         'model__min_samples_split': [2, 5, 10],\n",
       "                                         'model__splitter': ['best',\n",
       "                                                             'random']}],\n",
       "                   random_state=42, return_train_score=True, verbose=1)"
      ]
     },
     "execution_count": 121,
     "metadata": {},
     "output_type": "execute_result"
    }
   ],
   "source": [
    "%%time\n",
    "search.fit(x, y)"
   ]
  },
  {
   "cell_type": "markdown",
   "id": "ec7d18ec",
   "metadata": {},
   "source": [
    "#### get best paramters for this model "
   ]
  },
  {
   "cell_type": "code",
   "execution_count": 122,
   "id": "74740c4b",
   "metadata": {},
   "outputs": [
    {
     "data": {
      "text/plain": [
       "{'model__splitter': 'best',\n",
       " 'model__min_samples_split': 5,\n",
       " 'model__min_samples_leaf': 6,\n",
       " 'model__max_leaf_nodes': 39,\n",
       " 'model__max_features': None,\n",
       " 'model__max_depth': 19,\n",
       " 'model__criterion': 'entropy'}"
      ]
     },
     "execution_count": 122,
     "metadata": {},
     "output_type": "execute_result"
    }
   ],
   "source": [
    "search.best_params_"
   ]
  },
  {
   "cell_type": "markdown",
   "id": "ef5a0775",
   "metadata": {},
   "source": [
    "### Evaluating Model Performance\n",
    "### --------------------------------------------"
   ]
  },
  {
   "cell_type": "code",
   "execution_count": 123,
   "id": "4c0929c1",
   "metadata": {},
   "outputs": [
    {
     "data": {
      "text/plain": [
       "0.7189956518596344"
      ]
     },
     "execution_count": 123,
     "metadata": {},
     "output_type": "execute_result"
    }
   ],
   "source": [
    "search.cv_results_[\"mean_train_score\"].max()"
   ]
  },
  {
   "cell_type": "code",
   "execution_count": 124,
   "id": "50e4aaf5",
   "metadata": {},
   "outputs": [
    {
     "data": {
      "text/plain": [
       "0.711322122078819"
      ]
     },
     "execution_count": 124,
     "metadata": {},
     "output_type": "execute_result"
    }
   ],
   "source": [
    "search.cv_results_[\"mean_test_score\"].max()"
   ]
  },
  {
   "cell_type": "code",
   "execution_count": 125,
   "id": "13a9a372",
   "metadata": {},
   "outputs": [
    {
     "name": "stdout",
     "output_type": "stream",
     "text": [
      "Fitting 3 folds for each of 20 candidates, totalling 60 fits\n"
     ]
    },
    {
     "data": {
      "text/html": [
       "<style>#sk-1b15f1dc-1d2d-4980-bac2-ad092d1ecc60 {color: black;background-color: white;}#sk-1b15f1dc-1d2d-4980-bac2-ad092d1ecc60 pre{padding: 0;}#sk-1b15f1dc-1d2d-4980-bac2-ad092d1ecc60 div.sk-toggleable {background-color: white;}#sk-1b15f1dc-1d2d-4980-bac2-ad092d1ecc60 label.sk-toggleable__label {cursor: pointer;display: block;width: 100%;margin-bottom: 0;padding: 0.3em;box-sizing: border-box;text-align: center;}#sk-1b15f1dc-1d2d-4980-bac2-ad092d1ecc60 label.sk-toggleable__label-arrow:before {content: \"▸\";float: left;margin-right: 0.25em;color: #696969;}#sk-1b15f1dc-1d2d-4980-bac2-ad092d1ecc60 label.sk-toggleable__label-arrow:hover:before {color: black;}#sk-1b15f1dc-1d2d-4980-bac2-ad092d1ecc60 div.sk-estimator:hover label.sk-toggleable__label-arrow:before {color: black;}#sk-1b15f1dc-1d2d-4980-bac2-ad092d1ecc60 div.sk-toggleable__content {max-height: 0;max-width: 0;overflow: hidden;text-align: left;background-color: #f0f8ff;}#sk-1b15f1dc-1d2d-4980-bac2-ad092d1ecc60 div.sk-toggleable__content pre {margin: 0.2em;color: black;border-radius: 0.25em;background-color: #f0f8ff;}#sk-1b15f1dc-1d2d-4980-bac2-ad092d1ecc60 input.sk-toggleable__control:checked~div.sk-toggleable__content {max-height: 200px;max-width: 100%;overflow: auto;}#sk-1b15f1dc-1d2d-4980-bac2-ad092d1ecc60 input.sk-toggleable__control:checked~label.sk-toggleable__label-arrow:before {content: \"▾\";}#sk-1b15f1dc-1d2d-4980-bac2-ad092d1ecc60 div.sk-estimator input.sk-toggleable__control:checked~label.sk-toggleable__label {background-color: #d4ebff;}#sk-1b15f1dc-1d2d-4980-bac2-ad092d1ecc60 div.sk-label input.sk-toggleable__control:checked~label.sk-toggleable__label {background-color: #d4ebff;}#sk-1b15f1dc-1d2d-4980-bac2-ad092d1ecc60 input.sk-hidden--visually {border: 0;clip: rect(1px 1px 1px 1px);clip: rect(1px, 1px, 1px, 1px);height: 1px;margin: -1px;overflow: hidden;padding: 0;position: absolute;width: 1px;}#sk-1b15f1dc-1d2d-4980-bac2-ad092d1ecc60 div.sk-estimator {font-family: monospace;background-color: #f0f8ff;border: 1px dotted black;border-radius: 0.25em;box-sizing: border-box;margin-bottom: 0.5em;}#sk-1b15f1dc-1d2d-4980-bac2-ad092d1ecc60 div.sk-estimator:hover {background-color: #d4ebff;}#sk-1b15f1dc-1d2d-4980-bac2-ad092d1ecc60 div.sk-parallel-item::after {content: \"\";width: 100%;border-bottom: 1px solid gray;flex-grow: 1;}#sk-1b15f1dc-1d2d-4980-bac2-ad092d1ecc60 div.sk-label:hover label.sk-toggleable__label {background-color: #d4ebff;}#sk-1b15f1dc-1d2d-4980-bac2-ad092d1ecc60 div.sk-serial::before {content: \"\";position: absolute;border-left: 1px solid gray;box-sizing: border-box;top: 2em;bottom: 0;left: 50%;}#sk-1b15f1dc-1d2d-4980-bac2-ad092d1ecc60 div.sk-serial {display: flex;flex-direction: column;align-items: center;background-color: white;padding-right: 0.2em;padding-left: 0.2em;}#sk-1b15f1dc-1d2d-4980-bac2-ad092d1ecc60 div.sk-item {z-index: 1;}#sk-1b15f1dc-1d2d-4980-bac2-ad092d1ecc60 div.sk-parallel {display: flex;align-items: stretch;justify-content: center;background-color: white;}#sk-1b15f1dc-1d2d-4980-bac2-ad092d1ecc60 div.sk-parallel::before {content: \"\";position: absolute;border-left: 1px solid gray;box-sizing: border-box;top: 2em;bottom: 0;left: 50%;}#sk-1b15f1dc-1d2d-4980-bac2-ad092d1ecc60 div.sk-parallel-item {display: flex;flex-direction: column;position: relative;background-color: white;}#sk-1b15f1dc-1d2d-4980-bac2-ad092d1ecc60 div.sk-parallel-item:first-child::after {align-self: flex-end;width: 50%;}#sk-1b15f1dc-1d2d-4980-bac2-ad092d1ecc60 div.sk-parallel-item:last-child::after {align-self: flex-start;width: 50%;}#sk-1b15f1dc-1d2d-4980-bac2-ad092d1ecc60 div.sk-parallel-item:only-child::after {width: 0;}#sk-1b15f1dc-1d2d-4980-bac2-ad092d1ecc60 div.sk-dashed-wrapped {border: 1px dashed gray;margin: 0 0.4em 0.5em 0.4em;box-sizing: border-box;padding-bottom: 0.4em;background-color: white;position: relative;}#sk-1b15f1dc-1d2d-4980-bac2-ad092d1ecc60 div.sk-label label {font-family: monospace;font-weight: bold;background-color: white;display: inline-block;line-height: 1.2em;}#sk-1b15f1dc-1d2d-4980-bac2-ad092d1ecc60 div.sk-label-container {position: relative;z-index: 2;text-align: center;}#sk-1b15f1dc-1d2d-4980-bac2-ad092d1ecc60 div.sk-container {/* jupyter's `normalize.less` sets `[hidden] { display: none; }` but bootstrap.min.css set `[hidden] { display: none !important; }` so we also need the `!important` here to be able to override the default hidden behavior on the sphinx rendered scikit-learn.org. See: https://github.com/scikit-learn/scikit-learn/issues/21755 */display: inline-block !important;position: relative;}#sk-1b15f1dc-1d2d-4980-bac2-ad092d1ecc60 div.sk-text-repr-fallback {display: none;}</style><div id=\"sk-1b15f1dc-1d2d-4980-bac2-ad092d1ecc60\" class=\"sk-top-container\"><div class=\"sk-text-repr-fallback\"><pre>RandomizedSearchCV(cv=3,\n",
       "                   estimator=Pipeline(steps=[(&#x27;selector&#x27;,\n",
       "                                              SelectFromModel(estimator=DecisionTreeClassifier())),\n",
       "                                             (&#x27;scaler&#x27;, RobustScaler()),\n",
       "                                             (&#x27;model&#x27;,\n",
       "                                              DecisionTreeClassifier())]),\n",
       "                   n_iter=20,\n",
       "                   param_distributions=[{&#x27;model__criterion&#x27;: [&#x27;gini&#x27;,\n",
       "                                                              &#x27;entropy&#x27;],\n",
       "                                         &#x27;model__max_depth&#x27;: range(10, 40),\n",
       "                                         &#x27;model__max_features&#x27;: [&#x27;auto&#x27;, &#x27;log2&#x27;,\n",
       "                                                                 &#x27;sqrt&#x27;, None],\n",
       "                                         &#x27;model__max_leaf_nodes&#x27;: range(10, 40),\n",
       "                                         &#x27;model__min_samples_leaf&#x27;: range(1, 10),\n",
       "                                         &#x27;model__min_samples_split&#x27;: [2, 5, 10],\n",
       "                                         &#x27;model__splitter&#x27;: [&#x27;best&#x27;,\n",
       "                                                             &#x27;random&#x27;]}],\n",
       "                   random_state=42, return_train_score=True, verbose=1)</pre><b>Please rerun this cell to show the HTML repr or trust the notebook.</b></div><div class=\"sk-container\" hidden><div class=\"sk-item sk-dashed-wrapped\"><div class=\"sk-label-container\"><div class=\"sk-label sk-toggleable\"><input class=\"sk-toggleable__control sk-hidden--visually\" id=\"384ed66f-be6b-4d8d-ae9c-9e74610aa95f\" type=\"checkbox\" ><label for=\"384ed66f-be6b-4d8d-ae9c-9e74610aa95f\" class=\"sk-toggleable__label sk-toggleable__label-arrow\">RandomizedSearchCV</label><div class=\"sk-toggleable__content\"><pre>RandomizedSearchCV(cv=3,\n",
       "                   estimator=Pipeline(steps=[(&#x27;selector&#x27;,\n",
       "                                              SelectFromModel(estimator=DecisionTreeClassifier())),\n",
       "                                             (&#x27;scaler&#x27;, RobustScaler()),\n",
       "                                             (&#x27;model&#x27;,\n",
       "                                              DecisionTreeClassifier())]),\n",
       "                   n_iter=20,\n",
       "                   param_distributions=[{&#x27;model__criterion&#x27;: [&#x27;gini&#x27;,\n",
       "                                                              &#x27;entropy&#x27;],\n",
       "                                         &#x27;model__max_depth&#x27;: range(10, 40),\n",
       "                                         &#x27;model__max_features&#x27;: [&#x27;auto&#x27;, &#x27;log2&#x27;,\n",
       "                                                                 &#x27;sqrt&#x27;, None],\n",
       "                                         &#x27;model__max_leaf_nodes&#x27;: range(10, 40),\n",
       "                                         &#x27;model__min_samples_leaf&#x27;: range(1, 10),\n",
       "                                         &#x27;model__min_samples_split&#x27;: [2, 5, 10],\n",
       "                                         &#x27;model__splitter&#x27;: [&#x27;best&#x27;,\n",
       "                                                             &#x27;random&#x27;]}],\n",
       "                   random_state=42, return_train_score=True, verbose=1)</pre></div></div></div><div class=\"sk-parallel\"><div class=\"sk-parallel-item\"><div class=\"sk-item\"><div class=\"sk-serial\"><div class=\"sk-item\"><div class=\"sk-serial\"><div class=\"sk-item sk-dashed-wrapped\"><div class=\"sk-label-container\"><div class=\"sk-label sk-toggleable\"><input class=\"sk-toggleable__control sk-hidden--visually\" id=\"0a49afdf-1d69-4e18-a9e7-8acd89999c0b\" type=\"checkbox\" ><label for=\"0a49afdf-1d69-4e18-a9e7-8acd89999c0b\" class=\"sk-toggleable__label sk-toggleable__label-arrow\">selector: SelectFromModel</label><div class=\"sk-toggleable__content\"><pre>SelectFromModel(estimator=DecisionTreeClassifier())</pre></div></div></div><div class=\"sk-parallel\"><div class=\"sk-parallel-item\"><div class=\"sk-item\"><div class=\"sk-serial\"><div class=\"sk-item\"><div class=\"sk-estimator sk-toggleable\"><input class=\"sk-toggleable__control sk-hidden--visually\" id=\"89d25620-07b5-40b6-bb52-11c63f5a5773\" type=\"checkbox\" ><label for=\"89d25620-07b5-40b6-bb52-11c63f5a5773\" class=\"sk-toggleable__label sk-toggleable__label-arrow\">DecisionTreeClassifier</label><div class=\"sk-toggleable__content\"><pre>DecisionTreeClassifier()</pre></div></div></div></div></div></div></div></div><div class=\"sk-item\"><div class=\"sk-estimator sk-toggleable\"><input class=\"sk-toggleable__control sk-hidden--visually\" id=\"8d33b204-e6ce-4c12-8e66-5a36f44e9b6d\" type=\"checkbox\" ><label for=\"8d33b204-e6ce-4c12-8e66-5a36f44e9b6d\" class=\"sk-toggleable__label sk-toggleable__label-arrow\">RobustScaler</label><div class=\"sk-toggleable__content\"><pre>RobustScaler()</pre></div></div></div><div class=\"sk-item\"><div class=\"sk-estimator sk-toggleable\"><input class=\"sk-toggleable__control sk-hidden--visually\" id=\"be7ecd64-b18c-49a4-be64-bf55cd235013\" type=\"checkbox\" ><label for=\"be7ecd64-b18c-49a4-be64-bf55cd235013\" class=\"sk-toggleable__label sk-toggleable__label-arrow\">DecisionTreeClassifier</label><div class=\"sk-toggleable__content\"><pre>DecisionTreeClassifier()</pre></div></div></div></div></div></div></div></div></div></div></div></div>"
      ],
      "text/plain": [
       "RandomizedSearchCV(cv=3,\n",
       "                   estimator=Pipeline(steps=[('selector',\n",
       "                                              SelectFromModel(estimator=DecisionTreeClassifier())),\n",
       "                                             ('scaler', RobustScaler()),\n",
       "                                             ('model',\n",
       "                                              DecisionTreeClassifier())]),\n",
       "                   n_iter=20,\n",
       "                   param_distributions=[{'model__criterion': ['gini',\n",
       "                                                              'entropy'],\n",
       "                                         'model__max_depth': range(10, 40),\n",
       "                                         'model__max_features': ['auto', 'log2',\n",
       "                                                                 'sqrt', None],\n",
       "                                         'model__max_leaf_nodes': range(10, 40),\n",
       "                                         'model__min_samples_leaf': range(1, 10),\n",
       "                                         'model__min_samples_split': [2, 5, 10],\n",
       "                                         'model__splitter': ['best',\n",
       "                                                             'random']}],\n",
       "                   random_state=42, return_train_score=True, verbose=1)"
      ]
     },
     "execution_count": 125,
     "metadata": {},
     "output_type": "execute_result"
    }
   ],
   "source": [
    "search.fit(x,y)"
   ]
  },
  {
   "cell_type": "markdown",
   "id": "62dbd633",
   "metadata": {},
   "source": [
    "### apply feature selection for this model \n",
    "### ------------------------------------------------------"
   ]
  },
  {
   "cell_type": "code",
   "execution_count": 126,
   "id": "83eebb10",
   "metadata": {},
   "outputs": [],
   "source": [
    "from sklearn.feature_selection import SelectKBest\n",
    "from sklearn.feature_selection import f_classif"
   ]
  },
  {
   "cell_type": "code",
   "execution_count": 127,
   "id": "b18aa390",
   "metadata": {},
   "outputs": [],
   "source": [
    "fs = SelectKBest(score_func=f_classif, k=15) #selectiong best features corrleted "
   ]
  },
  {
   "cell_type": "code",
   "execution_count": 128,
   "id": "d8d50132",
   "metadata": {},
   "outputs": [],
   "source": [
    "X_selected = fs.fit_transform(x , y)"
   ]
  },
  {
   "cell_type": "code",
   "execution_count": 129,
   "id": "1dd2f5a9",
   "metadata": {},
   "outputs": [],
   "source": [
    "cols = fs.get_support(indices=True) #get names of the features by get_support "
   ]
  },
  {
   "cell_type": "code",
   "execution_count": 130,
   "id": "a41b291e",
   "metadata": {},
   "outputs": [
    {
     "data": {
      "text/html": [
       "<style>#sk-2837ed47-0354-4836-b3a5-59b687e677a0 {color: black;background-color: white;}#sk-2837ed47-0354-4836-b3a5-59b687e677a0 pre{padding: 0;}#sk-2837ed47-0354-4836-b3a5-59b687e677a0 div.sk-toggleable {background-color: white;}#sk-2837ed47-0354-4836-b3a5-59b687e677a0 label.sk-toggleable__label {cursor: pointer;display: block;width: 100%;margin-bottom: 0;padding: 0.3em;box-sizing: border-box;text-align: center;}#sk-2837ed47-0354-4836-b3a5-59b687e677a0 label.sk-toggleable__label-arrow:before {content: \"▸\";float: left;margin-right: 0.25em;color: #696969;}#sk-2837ed47-0354-4836-b3a5-59b687e677a0 label.sk-toggleable__label-arrow:hover:before {color: black;}#sk-2837ed47-0354-4836-b3a5-59b687e677a0 div.sk-estimator:hover label.sk-toggleable__label-arrow:before {color: black;}#sk-2837ed47-0354-4836-b3a5-59b687e677a0 div.sk-toggleable__content {max-height: 0;max-width: 0;overflow: hidden;text-align: left;background-color: #f0f8ff;}#sk-2837ed47-0354-4836-b3a5-59b687e677a0 div.sk-toggleable__content pre {margin: 0.2em;color: black;border-radius: 0.25em;background-color: #f0f8ff;}#sk-2837ed47-0354-4836-b3a5-59b687e677a0 input.sk-toggleable__control:checked~div.sk-toggleable__content {max-height: 200px;max-width: 100%;overflow: auto;}#sk-2837ed47-0354-4836-b3a5-59b687e677a0 input.sk-toggleable__control:checked~label.sk-toggleable__label-arrow:before {content: \"▾\";}#sk-2837ed47-0354-4836-b3a5-59b687e677a0 div.sk-estimator input.sk-toggleable__control:checked~label.sk-toggleable__label {background-color: #d4ebff;}#sk-2837ed47-0354-4836-b3a5-59b687e677a0 div.sk-label input.sk-toggleable__control:checked~label.sk-toggleable__label {background-color: #d4ebff;}#sk-2837ed47-0354-4836-b3a5-59b687e677a0 input.sk-hidden--visually {border: 0;clip: rect(1px 1px 1px 1px);clip: rect(1px, 1px, 1px, 1px);height: 1px;margin: -1px;overflow: hidden;padding: 0;position: absolute;width: 1px;}#sk-2837ed47-0354-4836-b3a5-59b687e677a0 div.sk-estimator {font-family: monospace;background-color: #f0f8ff;border: 1px dotted black;border-radius: 0.25em;box-sizing: border-box;margin-bottom: 0.5em;}#sk-2837ed47-0354-4836-b3a5-59b687e677a0 div.sk-estimator:hover {background-color: #d4ebff;}#sk-2837ed47-0354-4836-b3a5-59b687e677a0 div.sk-parallel-item::after {content: \"\";width: 100%;border-bottom: 1px solid gray;flex-grow: 1;}#sk-2837ed47-0354-4836-b3a5-59b687e677a0 div.sk-label:hover label.sk-toggleable__label {background-color: #d4ebff;}#sk-2837ed47-0354-4836-b3a5-59b687e677a0 div.sk-serial::before {content: \"\";position: absolute;border-left: 1px solid gray;box-sizing: border-box;top: 2em;bottom: 0;left: 50%;}#sk-2837ed47-0354-4836-b3a5-59b687e677a0 div.sk-serial {display: flex;flex-direction: column;align-items: center;background-color: white;padding-right: 0.2em;padding-left: 0.2em;}#sk-2837ed47-0354-4836-b3a5-59b687e677a0 div.sk-item {z-index: 1;}#sk-2837ed47-0354-4836-b3a5-59b687e677a0 div.sk-parallel {display: flex;align-items: stretch;justify-content: center;background-color: white;}#sk-2837ed47-0354-4836-b3a5-59b687e677a0 div.sk-parallel::before {content: \"\";position: absolute;border-left: 1px solid gray;box-sizing: border-box;top: 2em;bottom: 0;left: 50%;}#sk-2837ed47-0354-4836-b3a5-59b687e677a0 div.sk-parallel-item {display: flex;flex-direction: column;position: relative;background-color: white;}#sk-2837ed47-0354-4836-b3a5-59b687e677a0 div.sk-parallel-item:first-child::after {align-self: flex-end;width: 50%;}#sk-2837ed47-0354-4836-b3a5-59b687e677a0 div.sk-parallel-item:last-child::after {align-self: flex-start;width: 50%;}#sk-2837ed47-0354-4836-b3a5-59b687e677a0 div.sk-parallel-item:only-child::after {width: 0;}#sk-2837ed47-0354-4836-b3a5-59b687e677a0 div.sk-dashed-wrapped {border: 1px dashed gray;margin: 0 0.4em 0.5em 0.4em;box-sizing: border-box;padding-bottom: 0.4em;background-color: white;position: relative;}#sk-2837ed47-0354-4836-b3a5-59b687e677a0 div.sk-label label {font-family: monospace;font-weight: bold;background-color: white;display: inline-block;line-height: 1.2em;}#sk-2837ed47-0354-4836-b3a5-59b687e677a0 div.sk-label-container {position: relative;z-index: 2;text-align: center;}#sk-2837ed47-0354-4836-b3a5-59b687e677a0 div.sk-container {/* jupyter's `normalize.less` sets `[hidden] { display: none; }` but bootstrap.min.css set `[hidden] { display: none !important; }` so we also need the `!important` here to be able to override the default hidden behavior on the sphinx rendered scikit-learn.org. See: https://github.com/scikit-learn/scikit-learn/issues/21755 */display: inline-block !important;position: relative;}#sk-2837ed47-0354-4836-b3a5-59b687e677a0 div.sk-text-repr-fallback {display: none;}</style><div id=\"sk-2837ed47-0354-4836-b3a5-59b687e677a0\" class=\"sk-top-container\"><div class=\"sk-text-repr-fallback\"><pre>SelectKBest(k=15)</pre><b>Please rerun this cell to show the HTML repr or trust the notebook.</b></div><div class=\"sk-container\" hidden><div class=\"sk-item\"><div class=\"sk-estimator sk-toggleable\"><input class=\"sk-toggleable__control sk-hidden--visually\" id=\"60e6c39f-3100-48a6-8f6e-f7465ce82614\" type=\"checkbox\" checked><label for=\"60e6c39f-3100-48a6-8f6e-f7465ce82614\" class=\"sk-toggleable__label sk-toggleable__label-arrow\">SelectKBest</label><div class=\"sk-toggleable__content\"><pre>SelectKBest(k=15)</pre></div></div></div></div></div>"
      ],
      "text/plain": [
       "SelectKBest(k=15)"
      ]
     },
     "execution_count": 130,
     "metadata": {},
     "output_type": "execute_result"
    }
   ],
   "source": [
    "fs"
   ]
  },
  {
   "cell_type": "code",
   "execution_count": 131,
   "id": "daf8c1f0",
   "metadata": {},
   "outputs": [],
   "source": [
    "features_df_new = x.iloc[:,cols]"
   ]
  },
  {
   "cell_type": "markdown",
   "id": "5cfe2cd9",
   "metadata": {},
   "source": [
    "### features selection new dataframe we will train the model in this fetures  \n",
    "### ---------------------------------------------------------------------------------------------------"
   ]
  },
  {
   "cell_type": "code",
   "execution_count": 132,
   "id": "daa9fe57",
   "metadata": {},
   "outputs": [
    {
     "data": {
      "text/html": [
       "<div>\n",
       "<style scoped>\n",
       "    .dataframe tbody tr th:only-of-type {\n",
       "        vertical-align: middle;\n",
       "    }\n",
       "\n",
       "    .dataframe tbody tr th {\n",
       "        vertical-align: top;\n",
       "    }\n",
       "\n",
       "    .dataframe thead th {\n",
       "        text-align: right;\n",
       "    }\n",
       "</style>\n",
       "<table border=\"1\" class=\"dataframe\">\n",
       "  <thead>\n",
       "    <tr style=\"text-align: right;\">\n",
       "      <th></th>\n",
       "      <th>Annual_Income</th>\n",
       "      <th>Monthly_Inhand_Salary</th>\n",
       "      <th>Num_Bank_Accounts</th>\n",
       "      <th>Num_Credit_Card</th>\n",
       "      <th>Interest_Rate</th>\n",
       "      <th>Delay_from_due_date</th>\n",
       "      <th>Num_of_Delayed_Payment</th>\n",
       "      <th>Changed_Credit_Limit</th>\n",
       "      <th>Num_Credit_Inquiries</th>\n",
       "      <th>Outstanding_Debt</th>\n",
       "      <th>Credit_History_Age_years</th>\n",
       "      <th>Payment_of_Min_Amount_No</th>\n",
       "      <th>Payment_of_Min_Amount_Yes</th>\n",
       "      <th>Credit_Mix_Good</th>\n",
       "      <th>Credit_Mix_Standard</th>\n",
       "    </tr>\n",
       "  </thead>\n",
       "  <tbody>\n",
       "    <tr>\n",
       "      <th>0</th>\n",
       "      <td>19114.12</td>\n",
       "      <td>1824.843333</td>\n",
       "      <td>3</td>\n",
       "      <td>4</td>\n",
       "      <td>3</td>\n",
       "      <td>3</td>\n",
       "      <td>7.0</td>\n",
       "      <td>11.27</td>\n",
       "      <td>4.0</td>\n",
       "      <td>809.98</td>\n",
       "      <td>22</td>\n",
       "      <td>1.0</td>\n",
       "      <td>0.0</td>\n",
       "      <td>1.0</td>\n",
       "      <td>0.0</td>\n",
       "    </tr>\n",
       "    <tr>\n",
       "      <th>1</th>\n",
       "      <td>19114.12</td>\n",
       "      <td>1824.843333</td>\n",
       "      <td>3</td>\n",
       "      <td>4</td>\n",
       "      <td>3</td>\n",
       "      <td>5</td>\n",
       "      <td>4.0</td>\n",
       "      <td>6.27</td>\n",
       "      <td>4.0</td>\n",
       "      <td>809.98</td>\n",
       "      <td>22</td>\n",
       "      <td>1.0</td>\n",
       "      <td>0.0</td>\n",
       "      <td>1.0</td>\n",
       "      <td>0.0</td>\n",
       "    </tr>\n",
       "    <tr>\n",
       "      <th>2</th>\n",
       "      <td>19114.12</td>\n",
       "      <td>1824.843333</td>\n",
       "      <td>3</td>\n",
       "      <td>4</td>\n",
       "      <td>3</td>\n",
       "      <td>3</td>\n",
       "      <td>8.0</td>\n",
       "      <td>11.27</td>\n",
       "      <td>4.0</td>\n",
       "      <td>809.98</td>\n",
       "      <td>22</td>\n",
       "      <td>1.0</td>\n",
       "      <td>0.0</td>\n",
       "      <td>1.0</td>\n",
       "      <td>0.0</td>\n",
       "    </tr>\n",
       "    <tr>\n",
       "      <th>3</th>\n",
       "      <td>19114.12</td>\n",
       "      <td>1824.843333</td>\n",
       "      <td>3</td>\n",
       "      <td>4</td>\n",
       "      <td>3</td>\n",
       "      <td>3</td>\n",
       "      <td>6.0</td>\n",
       "      <td>11.27</td>\n",
       "      <td>4.0</td>\n",
       "      <td>809.98</td>\n",
       "      <td>22</td>\n",
       "      <td>1.0</td>\n",
       "      <td>0.0</td>\n",
       "      <td>1.0</td>\n",
       "      <td>0.0</td>\n",
       "    </tr>\n",
       "    <tr>\n",
       "      <th>4</th>\n",
       "      <td>34847.84</td>\n",
       "      <td>3037.986667</td>\n",
       "      <td>2</td>\n",
       "      <td>4</td>\n",
       "      <td>6</td>\n",
       "      <td>3</td>\n",
       "      <td>4.0</td>\n",
       "      <td>5.42</td>\n",
       "      <td>2.0</td>\n",
       "      <td>605.03</td>\n",
       "      <td>26</td>\n",
       "      <td>1.0</td>\n",
       "      <td>0.0</td>\n",
       "      <td>1.0</td>\n",
       "      <td>0.0</td>\n",
       "    </tr>\n",
       "    <tr>\n",
       "      <th>...</th>\n",
       "      <td>...</td>\n",
       "      <td>...</td>\n",
       "      <td>...</td>\n",
       "      <td>...</td>\n",
       "      <td>...</td>\n",
       "      <td>...</td>\n",
       "      <td>...</td>\n",
       "      <td>...</td>\n",
       "      <td>...</td>\n",
       "      <td>...</td>\n",
       "      <td>...</td>\n",
       "      <td>...</td>\n",
       "      <td>...</td>\n",
       "      <td>...</td>\n",
       "      <td>...</td>\n",
       "    </tr>\n",
       "    <tr>\n",
       "      <th>50754</th>\n",
       "      <td>37188.10</td>\n",
       "      <td>3097.008333</td>\n",
       "      <td>1</td>\n",
       "      <td>4</td>\n",
       "      <td>5</td>\n",
       "      <td>5</td>\n",
       "      <td>12.0</td>\n",
       "      <td>5.38</td>\n",
       "      <td>3.0</td>\n",
       "      <td>620.64</td>\n",
       "      <td>30</td>\n",
       "      <td>0.0</td>\n",
       "      <td>0.0</td>\n",
       "      <td>1.0</td>\n",
       "      <td>0.0</td>\n",
       "    </tr>\n",
       "    <tr>\n",
       "      <th>50755</th>\n",
       "      <td>20002.88</td>\n",
       "      <td>1929.906667</td>\n",
       "      <td>10</td>\n",
       "      <td>8</td>\n",
       "      <td>29</td>\n",
       "      <td>35</td>\n",
       "      <td>26.0</td>\n",
       "      <td>18.31</td>\n",
       "      <td>9.0</td>\n",
       "      <td>3571.70</td>\n",
       "      <td>5</td>\n",
       "      <td>0.0</td>\n",
       "      <td>1.0</td>\n",
       "      <td>0.0</td>\n",
       "      <td>0.0</td>\n",
       "    </tr>\n",
       "    <tr>\n",
       "      <th>50756</th>\n",
       "      <td>20002.88</td>\n",
       "      <td>1929.906667</td>\n",
       "      <td>10</td>\n",
       "      <td>8</td>\n",
       "      <td>29</td>\n",
       "      <td>33</td>\n",
       "      <td>25.0</td>\n",
       "      <td>18.31</td>\n",
       "      <td>9.0</td>\n",
       "      <td>3571.70</td>\n",
       "      <td>5</td>\n",
       "      <td>0.0</td>\n",
       "      <td>1.0</td>\n",
       "      <td>0.0</td>\n",
       "      <td>0.0</td>\n",
       "    </tr>\n",
       "    <tr>\n",
       "      <th>50757</th>\n",
       "      <td>20002.88</td>\n",
       "      <td>1929.906667</td>\n",
       "      <td>10</td>\n",
       "      <td>8</td>\n",
       "      <td>29</td>\n",
       "      <td>33</td>\n",
       "      <td>26.0</td>\n",
       "      <td>18.31</td>\n",
       "      <td>9.0</td>\n",
       "      <td>3571.70</td>\n",
       "      <td>6</td>\n",
       "      <td>0.0</td>\n",
       "      <td>1.0</td>\n",
       "      <td>0.0</td>\n",
       "      <td>0.0</td>\n",
       "    </tr>\n",
       "    <tr>\n",
       "      <th>50758</th>\n",
       "      <td>20002.88</td>\n",
       "      <td>1929.906667</td>\n",
       "      <td>10</td>\n",
       "      <td>8</td>\n",
       "      <td>29</td>\n",
       "      <td>33</td>\n",
       "      <td>25.0</td>\n",
       "      <td>18.31</td>\n",
       "      <td>9.0</td>\n",
       "      <td>3571.70</td>\n",
       "      <td>6</td>\n",
       "      <td>0.0</td>\n",
       "      <td>1.0</td>\n",
       "      <td>0.0</td>\n",
       "      <td>0.0</td>\n",
       "    </tr>\n",
       "  </tbody>\n",
       "</table>\n",
       "<p>50759 rows × 15 columns</p>\n",
       "</div>"
      ],
      "text/plain": [
       "       Annual_Income  Monthly_Inhand_Salary  Num_Bank_Accounts  \\\n",
       "0           19114.12            1824.843333                  3   \n",
       "1           19114.12            1824.843333                  3   \n",
       "2           19114.12            1824.843333                  3   \n",
       "3           19114.12            1824.843333                  3   \n",
       "4           34847.84            3037.986667                  2   \n",
       "...              ...                    ...                ...   \n",
       "50754       37188.10            3097.008333                  1   \n",
       "50755       20002.88            1929.906667                 10   \n",
       "50756       20002.88            1929.906667                 10   \n",
       "50757       20002.88            1929.906667                 10   \n",
       "50758       20002.88            1929.906667                 10   \n",
       "\n",
       "       Num_Credit_Card  Interest_Rate  Delay_from_due_date  \\\n",
       "0                    4              3                    3   \n",
       "1                    4              3                    5   \n",
       "2                    4              3                    3   \n",
       "3                    4              3                    3   \n",
       "4                    4              6                    3   \n",
       "...                ...            ...                  ...   \n",
       "50754                4              5                    5   \n",
       "50755                8             29                   35   \n",
       "50756                8             29                   33   \n",
       "50757                8             29                   33   \n",
       "50758                8             29                   33   \n",
       "\n",
       "       Num_of_Delayed_Payment  Changed_Credit_Limit  Num_Credit_Inquiries  \\\n",
       "0                         7.0                 11.27                   4.0   \n",
       "1                         4.0                  6.27                   4.0   \n",
       "2                         8.0                 11.27                   4.0   \n",
       "3                         6.0                 11.27                   4.0   \n",
       "4                         4.0                  5.42                   2.0   \n",
       "...                       ...                   ...                   ...   \n",
       "50754                    12.0                  5.38                   3.0   \n",
       "50755                    26.0                 18.31                   9.0   \n",
       "50756                    25.0                 18.31                   9.0   \n",
       "50757                    26.0                 18.31                   9.0   \n",
       "50758                    25.0                 18.31                   9.0   \n",
       "\n",
       "       Outstanding_Debt  Credit_History_Age_years  Payment_of_Min_Amount_No  \\\n",
       "0                809.98                        22                       1.0   \n",
       "1                809.98                        22                       1.0   \n",
       "2                809.98                        22                       1.0   \n",
       "3                809.98                        22                       1.0   \n",
       "4                605.03                        26                       1.0   \n",
       "...                 ...                       ...                       ...   \n",
       "50754            620.64                        30                       0.0   \n",
       "50755           3571.70                         5                       0.0   \n",
       "50756           3571.70                         5                       0.0   \n",
       "50757           3571.70                         6                       0.0   \n",
       "50758           3571.70                         6                       0.0   \n",
       "\n",
       "       Payment_of_Min_Amount_Yes  Credit_Mix_Good  Credit_Mix_Standard  \n",
       "0                            0.0              1.0                  0.0  \n",
       "1                            0.0              1.0                  0.0  \n",
       "2                            0.0              1.0                  0.0  \n",
       "3                            0.0              1.0                  0.0  \n",
       "4                            0.0              1.0                  0.0  \n",
       "...                          ...              ...                  ...  \n",
       "50754                        0.0              1.0                  0.0  \n",
       "50755                        1.0              0.0                  0.0  \n",
       "50756                        1.0              0.0                  0.0  \n",
       "50757                        1.0              0.0                  0.0  \n",
       "50758                        1.0              0.0                  0.0  \n",
       "\n",
       "[50759 rows x 15 columns]"
      ]
     },
     "execution_count": 132,
     "metadata": {},
     "output_type": "execute_result"
    }
   ],
   "source": [
    "features_df_new"
   ]
  },
  {
   "cell_type": "markdown",
   "id": "01066ac1",
   "metadata": {},
   "source": [
    "### splitting the data to train and test by train_test_split\n",
    "### --------------------------------------------------------------------------"
   ]
  },
  {
   "cell_type": "code",
   "execution_count": 148,
   "id": "7b8e0b38",
   "metadata": {},
   "outputs": [],
   "source": [
    "from sklearn.model_selection import train_test_split"
   ]
  },
  {
   "cell_type": "code",
   "execution_count": 149,
   "id": "4b680c91",
   "metadata": {},
   "outputs": [],
   "source": [
    "# x = new features is features selection from the dataa frame \n",
    "x_train , x_test , y_train , y_test = train_test_split(features_df_new,y ,\n",
    "                                                       test_size=0.01 , shuffle=True , random_state=7 , stratify=y) "
   ]
  },
  {
   "cell_type": "code",
   "execution_count": 150,
   "id": "a83979df",
   "metadata": {},
   "outputs": [],
   "source": [
    "from imblearn.over_sampling import RandomOverSampler , SMOTE\n",
    "rs = SMOTE()\n",
    "x_train , y_train =rs.fit_resample(x_train , y_train)"
   ]
  },
  {
   "cell_type": "code",
   "execution_count": 151,
   "id": "fbcba439",
   "metadata": {},
   "outputs": [
    {
     "data": {
      "text/plain": [
       "2    26736\n",
       "0    26736\n",
       "1    26736\n",
       "Name: Credit_Score, dtype: int64"
      ]
     },
     "execution_count": 151,
     "metadata": {},
     "output_type": "execute_result"
    }
   ],
   "source": [
    "y_train.value_counts()"
   ]
  },
  {
   "cell_type": "code",
   "execution_count": 152,
   "id": "d6d58db6",
   "metadata": {},
   "outputs": [
    {
     "name": "stdout",
     "output_type": "stream",
     "text": [
      "Fitting 3 folds for each of 20 candidates, totalling 60 fits\n"
     ]
    },
    {
     "data": {
      "text/html": [
       "<style>#sk-e3f659eb-f60c-4855-b3e0-8bc6aed69607 {color: black;background-color: white;}#sk-e3f659eb-f60c-4855-b3e0-8bc6aed69607 pre{padding: 0;}#sk-e3f659eb-f60c-4855-b3e0-8bc6aed69607 div.sk-toggleable {background-color: white;}#sk-e3f659eb-f60c-4855-b3e0-8bc6aed69607 label.sk-toggleable__label {cursor: pointer;display: block;width: 100%;margin-bottom: 0;padding: 0.3em;box-sizing: border-box;text-align: center;}#sk-e3f659eb-f60c-4855-b3e0-8bc6aed69607 label.sk-toggleable__label-arrow:before {content: \"▸\";float: left;margin-right: 0.25em;color: #696969;}#sk-e3f659eb-f60c-4855-b3e0-8bc6aed69607 label.sk-toggleable__label-arrow:hover:before {color: black;}#sk-e3f659eb-f60c-4855-b3e0-8bc6aed69607 div.sk-estimator:hover label.sk-toggleable__label-arrow:before {color: black;}#sk-e3f659eb-f60c-4855-b3e0-8bc6aed69607 div.sk-toggleable__content {max-height: 0;max-width: 0;overflow: hidden;text-align: left;background-color: #f0f8ff;}#sk-e3f659eb-f60c-4855-b3e0-8bc6aed69607 div.sk-toggleable__content pre {margin: 0.2em;color: black;border-radius: 0.25em;background-color: #f0f8ff;}#sk-e3f659eb-f60c-4855-b3e0-8bc6aed69607 input.sk-toggleable__control:checked~div.sk-toggleable__content {max-height: 200px;max-width: 100%;overflow: auto;}#sk-e3f659eb-f60c-4855-b3e0-8bc6aed69607 input.sk-toggleable__control:checked~label.sk-toggleable__label-arrow:before {content: \"▾\";}#sk-e3f659eb-f60c-4855-b3e0-8bc6aed69607 div.sk-estimator input.sk-toggleable__control:checked~label.sk-toggleable__label {background-color: #d4ebff;}#sk-e3f659eb-f60c-4855-b3e0-8bc6aed69607 div.sk-label input.sk-toggleable__control:checked~label.sk-toggleable__label {background-color: #d4ebff;}#sk-e3f659eb-f60c-4855-b3e0-8bc6aed69607 input.sk-hidden--visually {border: 0;clip: rect(1px 1px 1px 1px);clip: rect(1px, 1px, 1px, 1px);height: 1px;margin: -1px;overflow: hidden;padding: 0;position: absolute;width: 1px;}#sk-e3f659eb-f60c-4855-b3e0-8bc6aed69607 div.sk-estimator {font-family: monospace;background-color: #f0f8ff;border: 1px dotted black;border-radius: 0.25em;box-sizing: border-box;margin-bottom: 0.5em;}#sk-e3f659eb-f60c-4855-b3e0-8bc6aed69607 div.sk-estimator:hover {background-color: #d4ebff;}#sk-e3f659eb-f60c-4855-b3e0-8bc6aed69607 div.sk-parallel-item::after {content: \"\";width: 100%;border-bottom: 1px solid gray;flex-grow: 1;}#sk-e3f659eb-f60c-4855-b3e0-8bc6aed69607 div.sk-label:hover label.sk-toggleable__label {background-color: #d4ebff;}#sk-e3f659eb-f60c-4855-b3e0-8bc6aed69607 div.sk-serial::before {content: \"\";position: absolute;border-left: 1px solid gray;box-sizing: border-box;top: 2em;bottom: 0;left: 50%;}#sk-e3f659eb-f60c-4855-b3e0-8bc6aed69607 div.sk-serial {display: flex;flex-direction: column;align-items: center;background-color: white;padding-right: 0.2em;padding-left: 0.2em;}#sk-e3f659eb-f60c-4855-b3e0-8bc6aed69607 div.sk-item {z-index: 1;}#sk-e3f659eb-f60c-4855-b3e0-8bc6aed69607 div.sk-parallel {display: flex;align-items: stretch;justify-content: center;background-color: white;}#sk-e3f659eb-f60c-4855-b3e0-8bc6aed69607 div.sk-parallel::before {content: \"\";position: absolute;border-left: 1px solid gray;box-sizing: border-box;top: 2em;bottom: 0;left: 50%;}#sk-e3f659eb-f60c-4855-b3e0-8bc6aed69607 div.sk-parallel-item {display: flex;flex-direction: column;position: relative;background-color: white;}#sk-e3f659eb-f60c-4855-b3e0-8bc6aed69607 div.sk-parallel-item:first-child::after {align-self: flex-end;width: 50%;}#sk-e3f659eb-f60c-4855-b3e0-8bc6aed69607 div.sk-parallel-item:last-child::after {align-self: flex-start;width: 50%;}#sk-e3f659eb-f60c-4855-b3e0-8bc6aed69607 div.sk-parallel-item:only-child::after {width: 0;}#sk-e3f659eb-f60c-4855-b3e0-8bc6aed69607 div.sk-dashed-wrapped {border: 1px dashed gray;margin: 0 0.4em 0.5em 0.4em;box-sizing: border-box;padding-bottom: 0.4em;background-color: white;position: relative;}#sk-e3f659eb-f60c-4855-b3e0-8bc6aed69607 div.sk-label label {font-family: monospace;font-weight: bold;background-color: white;display: inline-block;line-height: 1.2em;}#sk-e3f659eb-f60c-4855-b3e0-8bc6aed69607 div.sk-label-container {position: relative;z-index: 2;text-align: center;}#sk-e3f659eb-f60c-4855-b3e0-8bc6aed69607 div.sk-container {/* jupyter's `normalize.less` sets `[hidden] { display: none; }` but bootstrap.min.css set `[hidden] { display: none !important; }` so we also need the `!important` here to be able to override the default hidden behavior on the sphinx rendered scikit-learn.org. See: https://github.com/scikit-learn/scikit-learn/issues/21755 */display: inline-block !important;position: relative;}#sk-e3f659eb-f60c-4855-b3e0-8bc6aed69607 div.sk-text-repr-fallback {display: none;}</style><div id=\"sk-e3f659eb-f60c-4855-b3e0-8bc6aed69607\" class=\"sk-top-container\"><div class=\"sk-text-repr-fallback\"><pre>RandomizedSearchCV(cv=3,\n",
       "                   estimator=Pipeline(steps=[(&#x27;selector&#x27;,\n",
       "                                              SelectFromModel(estimator=DecisionTreeClassifier())),\n",
       "                                             (&#x27;scaler&#x27;, RobustScaler()),\n",
       "                                             (&#x27;model&#x27;,\n",
       "                                              DecisionTreeClassifier())]),\n",
       "                   n_iter=20,\n",
       "                   param_distributions=[{&#x27;model__criterion&#x27;: [&#x27;gini&#x27;,\n",
       "                                                              &#x27;entropy&#x27;],\n",
       "                                         &#x27;model__max_depth&#x27;: range(10, 40),\n",
       "                                         &#x27;model__max_features&#x27;: [&#x27;auto&#x27;, &#x27;log2&#x27;,\n",
       "                                                                 &#x27;sqrt&#x27;, None],\n",
       "                                         &#x27;model__max_leaf_nodes&#x27;: range(10, 40),\n",
       "                                         &#x27;model__min_samples_leaf&#x27;: range(1, 10),\n",
       "                                         &#x27;model__min_samples_split&#x27;: [2, 5, 10],\n",
       "                                         &#x27;model__splitter&#x27;: [&#x27;best&#x27;,\n",
       "                                                             &#x27;random&#x27;]}],\n",
       "                   random_state=42, return_train_score=True, verbose=1)</pre><b>Please rerun this cell to show the HTML repr or trust the notebook.</b></div><div class=\"sk-container\" hidden><div class=\"sk-item sk-dashed-wrapped\"><div class=\"sk-label-container\"><div class=\"sk-label sk-toggleable\"><input class=\"sk-toggleable__control sk-hidden--visually\" id=\"4145b3bf-576e-4ee2-9125-9dc79c104cb0\" type=\"checkbox\" ><label for=\"4145b3bf-576e-4ee2-9125-9dc79c104cb0\" class=\"sk-toggleable__label sk-toggleable__label-arrow\">RandomizedSearchCV</label><div class=\"sk-toggleable__content\"><pre>RandomizedSearchCV(cv=3,\n",
       "                   estimator=Pipeline(steps=[(&#x27;selector&#x27;,\n",
       "                                              SelectFromModel(estimator=DecisionTreeClassifier())),\n",
       "                                             (&#x27;scaler&#x27;, RobustScaler()),\n",
       "                                             (&#x27;model&#x27;,\n",
       "                                              DecisionTreeClassifier())]),\n",
       "                   n_iter=20,\n",
       "                   param_distributions=[{&#x27;model__criterion&#x27;: [&#x27;gini&#x27;,\n",
       "                                                              &#x27;entropy&#x27;],\n",
       "                                         &#x27;model__max_depth&#x27;: range(10, 40),\n",
       "                                         &#x27;model__max_features&#x27;: [&#x27;auto&#x27;, &#x27;log2&#x27;,\n",
       "                                                                 &#x27;sqrt&#x27;, None],\n",
       "                                         &#x27;model__max_leaf_nodes&#x27;: range(10, 40),\n",
       "                                         &#x27;model__min_samples_leaf&#x27;: range(1, 10),\n",
       "                                         &#x27;model__min_samples_split&#x27;: [2, 5, 10],\n",
       "                                         &#x27;model__splitter&#x27;: [&#x27;best&#x27;,\n",
       "                                                             &#x27;random&#x27;]}],\n",
       "                   random_state=42, return_train_score=True, verbose=1)</pre></div></div></div><div class=\"sk-parallel\"><div class=\"sk-parallel-item\"><div class=\"sk-item\"><div class=\"sk-serial\"><div class=\"sk-item\"><div class=\"sk-serial\"><div class=\"sk-item sk-dashed-wrapped\"><div class=\"sk-label-container\"><div class=\"sk-label sk-toggleable\"><input class=\"sk-toggleable__control sk-hidden--visually\" id=\"8e92baca-c7fd-4b5f-8ea3-a9c2d8a3962b\" type=\"checkbox\" ><label for=\"8e92baca-c7fd-4b5f-8ea3-a9c2d8a3962b\" class=\"sk-toggleable__label sk-toggleable__label-arrow\">selector: SelectFromModel</label><div class=\"sk-toggleable__content\"><pre>SelectFromModel(estimator=DecisionTreeClassifier())</pre></div></div></div><div class=\"sk-parallel\"><div class=\"sk-parallel-item\"><div class=\"sk-item\"><div class=\"sk-serial\"><div class=\"sk-item\"><div class=\"sk-estimator sk-toggleable\"><input class=\"sk-toggleable__control sk-hidden--visually\" id=\"08ebadb2-9fd9-4bc1-839d-757e8553cb83\" type=\"checkbox\" ><label for=\"08ebadb2-9fd9-4bc1-839d-757e8553cb83\" class=\"sk-toggleable__label sk-toggleable__label-arrow\">DecisionTreeClassifier</label><div class=\"sk-toggleable__content\"><pre>DecisionTreeClassifier()</pre></div></div></div></div></div></div></div></div><div class=\"sk-item\"><div class=\"sk-estimator sk-toggleable\"><input class=\"sk-toggleable__control sk-hidden--visually\" id=\"f7f128b8-b1be-4abe-9993-1aa06be75f21\" type=\"checkbox\" ><label for=\"f7f128b8-b1be-4abe-9993-1aa06be75f21\" class=\"sk-toggleable__label sk-toggleable__label-arrow\">RobustScaler</label><div class=\"sk-toggleable__content\"><pre>RobustScaler()</pre></div></div></div><div class=\"sk-item\"><div class=\"sk-estimator sk-toggleable\"><input class=\"sk-toggleable__control sk-hidden--visually\" id=\"3c264f2c-a4da-4c70-be32-65a5d93f8faf\" type=\"checkbox\" ><label for=\"3c264f2c-a4da-4c70-be32-65a5d93f8faf\" class=\"sk-toggleable__label sk-toggleable__label-arrow\">DecisionTreeClassifier</label><div class=\"sk-toggleable__content\"><pre>DecisionTreeClassifier()</pre></div></div></div></div></div></div></div></div></div></div></div></div>"
      ],
      "text/plain": [
       "RandomizedSearchCV(cv=3,\n",
       "                   estimator=Pipeline(steps=[('selector',\n",
       "                                              SelectFromModel(estimator=DecisionTreeClassifier())),\n",
       "                                             ('scaler', RobustScaler()),\n",
       "                                             ('model',\n",
       "                                              DecisionTreeClassifier())]),\n",
       "                   n_iter=20,\n",
       "                   param_distributions=[{'model__criterion': ['gini',\n",
       "                                                              'entropy'],\n",
       "                                         'model__max_depth': range(10, 40),\n",
       "                                         'model__max_features': ['auto', 'log2',\n",
       "                                                                 'sqrt', None],\n",
       "                                         'model__max_leaf_nodes': range(10, 40),\n",
       "                                         'model__min_samples_leaf': range(1, 10),\n",
       "                                         'model__min_samples_split': [2, 5, 10],\n",
       "                                         'model__splitter': ['best',\n",
       "                                                             'random']}],\n",
       "                   random_state=42, return_train_score=True, verbose=1)"
      ]
     },
     "execution_count": 152,
     "metadata": {},
     "output_type": "execute_result"
    }
   ],
   "source": [
    "search.fit(x_train , y_train) ## fit the data "
   ]
  },
  {
   "cell_type": "markdown",
   "id": "9a2a243b",
   "metadata": {},
   "source": [
    "### predict on x_test and get predicted to evaluate the model \n",
    "### ----------------------------------------------------------------------------------"
   ]
  },
  {
   "cell_type": "code",
   "execution_count": 153,
   "id": "bacc2b24",
   "metadata": {},
   "outputs": [],
   "source": [
    "y_pred_test = search.predict(x_test)"
   ]
  },
  {
   "cell_type": "code",
   "execution_count": 154,
   "id": "5274a00b",
   "metadata": {},
   "outputs": [],
   "source": [
    "y_pred_train = search.predict(x_train)"
   ]
  },
  {
   "cell_type": "markdown",
   "id": "d36cef9e",
   "metadata": {},
   "source": [
    "### import all metrics we want to evaluate our model \n",
    "### ----------------------------------------------------------------------"
   ]
  },
  {
   "cell_type": "code",
   "execution_count": 155,
   "id": "2a7c7733",
   "metadata": {},
   "outputs": [],
   "source": [
    "from sklearn.metrics import accuracy_score , precision_score , recall_score , f1_score , confusion_matrix , ConfusionMatrixDisplay"
   ]
  },
  {
   "cell_type": "code",
   "execution_count": 156,
   "id": "87392591",
   "metadata": {},
   "outputs": [
    {
     "name": "stdout",
     "output_type": "stream",
     "text": [
      "Train accuracy_score  is  0.7425069818471973\n",
      "test accuracy_scoreis  0.6948818897637795\n"
     ]
    }
   ],
   "source": [
    "print(\"Train accuracy_score  is \" , accuracy_score(y_train ,y_pred_train ))\n",
    "print(\"test accuracy_scoreis \" , accuracy_score(y_test , y_pred=y_pred_test))"
   ]
  },
  {
   "cell_type": "code",
   "execution_count": 157,
   "id": "4b898963",
   "metadata": {},
   "outputs": [
    {
     "name": "stdout",
     "output_type": "stream",
     "text": [
      "Train precision_score  is  0.7403146597315252\n",
      "test precision_score  0.7346281722056066\n"
     ]
    }
   ],
   "source": [
    "print(\"Train precision_score  is \" , precision_score(y_train ,y_pred_train , average='weighted' ))\n",
    "print(\"test precision_score \" , precision_score(y_test , y_pred=y_pred_test , average='weighted'))"
   ]
  },
  {
   "cell_type": "code",
   "execution_count": 158,
   "id": "6c4ff33d",
   "metadata": {},
   "outputs": [
    {
     "name": "stdout",
     "output_type": "stream",
     "text": [
      "Train recall_score  is  0.7425069818471973\n",
      "test recall_score  0.6948818897637795\n"
     ]
    }
   ],
   "source": [
    "print(\"Train recall_score  is \" , recall_score(y_train ,y_pred_train , average='weighted' ))\n",
    "print(\"test recall_score \" , recall_score(y_test , y_pred=y_pred_test , average='weighted'))"
   ]
  },
  {
   "cell_type": "code",
   "execution_count": 159,
   "id": "a1b8f95c",
   "metadata": {},
   "outputs": [
    {
     "name": "stdout",
     "output_type": "stream",
     "text": [
      "Train f1_score  is  0.7393825736237065\n",
      "test f1_score  0.6970221862574361\n"
     ]
    }
   ],
   "source": [
    "print(\"Train f1_score  is \" , f1_score(y_train ,y_pred_train , average='weighted' ))\n",
    "print(\"test f1_score \" , f1_score(y_test , y_pred=y_pred_test , average='weighted'))"
   ]
  },
  {
   "cell_type": "code",
   "execution_count": 165,
   "id": "0e456f82",
   "metadata": {},
   "outputs": [
    {
     "data": {
      "text/plain": [
       "Text(0.5, 1.0, 'Confusion Matrix for DecisionTreeClassifier')"
      ]
     },
     "execution_count": 165,
     "metadata": {},
     "output_type": "execute_result"
    },
    {
     "data": {
      "image/png": "[encoded data removed]",
      "text/plain": [
       "<Figure size 720x720 with 1 Axes>"
      ]
     },
     "metadata": {
      "needs_background": "light"
     },
     "output_type": "display_data"
    }
   ],
   "source": [
    "# Plot confusion matrix for DecisionTreeClassifier .\n",
    "import matplotlib.pyplot as plt\n",
    "matrix = confusion_matrix(y_test,y_pred_test)\n",
    "plt.figure(figsize=(10,10))\n",
    "sns.heatmap(matrix,annot=True, cbar=False, cmap='twilight',linewidth=0.5,fmt=\"d\")\n",
    "plt.ylabel('True Label')\n",
    "plt.xlabel('Predicted Label')\n",
    "plt.title('Confusion Matrix for DecisionTreeClassifier')"
   ]
  },
  {
   "cell_type": "markdown",
   "id": "a649a9eb",
   "metadata": {},
   "source": [
    "### save the model\n",
    "### ----------------------"
   ]
  },
  {
   "cell_type": "code",
   "execution_count": 166,
   "id": "92dae8ef",
   "metadata": {},
   "outputs": [
    {
     "data": {
      "text/plain": [
       "['credit card coulmns.h5']"
      ]
     },
     "execution_count": 166,
     "metadata": {},
     "output_type": "execute_result"
    }
   ],
   "source": [
    "import joblib \n",
    "joblib.dump( search, \"credit card.h5\")\n",
    "joblib.dump( x_train.columns,\"credit card coulmns.h5\")"
   ]
  }
 ],
 "metadata": {
  "kernelspec": {
   "display_name": "Python 3 (ipykernel)",
   "language": "python",
   "name": "python3"
  },
  "language_info": {
   "codemirror_mode": {
    "name": "ipython",
    "version": 3
   },
   "file_extension": ".py",
   "mimetype": "text/x-python",
   "name": "python",
   "nbconvert_exporter": "python",
   "pygments_lexer": "ipython3",
   "version": "3.10.4"
  }
 },
 "nbformat": 4,
 "nbformat_minor": 5
}
